{
  "nbformat": 4,
  "nbformat_minor": 0,
  "metadata": {
    "colab": {
      "provenance": [],
      "authorship_tag": "ABX9TyOdLUW5d21RO2Jx9CWue3pC",
      "include_colab_link": true
    },
    "kernelspec": {
      "name": "python3",
      "display_name": "Python 3"
    },
    "language_info": {
      "name": "python"
    }
  },
  "cells": [
    {
      "cell_type": "markdown",
      "metadata": {
        "id": "view-in-github",
        "colab_type": "text"
      },
      "source": [
        "<a href=\"https://colab.research.google.com/github/Andrea-24744/Simulaci-n-1/blob/main/Kolmogorov_S.ipynb\" target=\"_parent\"><img src=\"https://colab.research.google.com/assets/colab-badge.svg\" alt=\"Open In Colab\"/></a>"
      ]
    },
    {
      "cell_type": "markdown",
      "source": [
        "# KOLMOGOROV-S\n",
        "*Santelices Medina Andrea*\n",
        "\n",
        "\n",
        "<p style=\"text-align: justify;\">Existen algunos métodos disponibles para verificar varios aspectos de la calidad de los números\n",
        "pseudoaleatorios.</p>\n",
        "<p style=\"text-align: justify;\">Las dos propiedades más importantes esperadas en los números aleatorios son uniformidad e independencia. La prueba de uniformidad puede ser realizada usando las pruebas de bondad de ajuste disponibles. Por ejemplo, un número estadístico suficiente de números aleatorios pueden ser usados para verificar la distribución de los números contra la distribución uniforme teórica usando ya sea el método Chi-Cuadrada o el método Kolmogomorov-Smirnov(KS) para números aleatorios. Este tipo de prueba es denominada \"Prueba de frecuencia\"</p>\n",
        "\n",
        "Para entender mejor la función de las pruebas de uniformidad, realicemos un ejemplo aplicando la de **Kolmogorov-S:**\n",
        "1. Ordene los datos en forma ascendente.\n",
        "2. Calcule los valores $D^+, D^-, D$:\n",
        "$$D^+ = \\max_{1 \\leq i \\leq n} \\left[ \\frac{i}{n} - X_i \\right] \\quad  \n",
        "D^- = \\max_{1 \\leq i \\leq n} \\left[ X_i - \\frac{i-1}{n} \\right] $$\n",
        "3. Determinar el valor crítico $d_{α,n}$ en la tabla de valores críticos de K-S, para un nivel de confianza $(1-α)$ y tamaño de la muestra $n$. Si $D > d_{α,n} $ se rechaza $H_o$ (Hipótesis nula)."
      ],
      "metadata": {
        "id": "IAkWJlXpg28P"
      }
    },
    {
      "cell_type": "code",
      "execution_count": 7,
      "metadata": {
        "colab": {
          "base_uri": "https://localhost:8080/"
        },
        "id": "EdnejfmFggEr",
        "outputId": "fc2b66f8-eb7f-4a58-914f-d1ee59f6c524"
      },
      "outputs": [
        {
          "output_type": "stream",
          "name": "stdout",
          "text": [
            "╒════╤═══════╤═══════╤════════════╤════════════════╕\n",
            "│    │    Xi │   i/n │   i/n - Xi │   Xi - (i-1)/n │\n",
            "╞════╪═══════╪═══════╪════════════╪════════════════╡\n",
            "│  0 │ 0.007 │  0.04 │      0.033 │          0.007 │\n",
            "├────┼───────┼───────┼────────────┼────────────────┤\n",
            "│  1 │ 0.048 │  0.08 │      0.032 │          0.008 │\n",
            "├────┼───────┼───────┼────────────┼────────────────┤\n",
            "│  2 │ 0.086 │  0.12 │      0.034 │          0.006 │\n",
            "├────┼───────┼───────┼────────────┼────────────────┤\n",
            "│  3 │ 0.157 │  0.16 │      0.003 │          0.037 │\n",
            "├────┼───────┼───────┼────────────┼────────────────┤\n",
            "│  4 │ 0.166 │  0.2  │      0.034 │          0.006 │\n",
            "├────┼───────┼───────┼────────────┼────────────────┤\n",
            "│  5 │ 0.178 │  0.24 │      0.062 │         -0.022 │\n",
            "├────┼───────┼───────┼────────────┼────────────────┤\n",
            "│  6 │ 0.199 │  0.28 │      0.081 │         -0.041 │\n",
            "├────┼───────┼───────┼────────────┼────────────────┤\n",
            "│  7 │ 0.298 │  0.32 │      0.022 │          0.018 │\n",
            "├────┼───────┼───────┼────────────┼────────────────┤\n",
            "│  8 │ 0.362 │  0.36 │     -0.002 │          0.042 │\n",
            "├────┼───────┼───────┼────────────┼────────────────┤\n",
            "│  9 │ 0.368 │  0.4  │      0.032 │          0.008 │\n",
            "├────┼───────┼───────┼────────────┼────────────────┤\n",
            "│ 10 │ 0.401 │  0.44 │      0.039 │          0.001 │\n",
            "├────┼───────┼───────┼────────────┼────────────────┤\n",
            "│ 11 │ 0.411 │  0.48 │      0.069 │         -0.029 │\n",
            "├────┼───────┼───────┼────────────┼────────────────┤\n",
            "│ 12 │ 0.437 │  0.52 │      0.083 │         -0.043 │\n",
            "├────┼───────┼───────┼────────────┼────────────────┤\n",
            "│ 13 │ 0.478 │  0.56 │      0.082 │         -0.042 │\n",
            "├────┼───────┼───────┼────────────┼────────────────┤\n",
            "│ 14 │ 0.533 │  0.6  │      0.067 │         -0.027 │\n",
            "├────┼───────┼───────┼────────────┼────────────────┤\n",
            "│ 15 │ 0.545 │  0.64 │      0.095 │         -0.055 │\n",
            "├────┼───────┼───────┼────────────┼────────────────┤\n",
            "│ 16 │ 0.551 │  0.68 │      0.129 │         -0.089 │\n",
            "├────┼───────┼───────┼────────────┼────────────────┤\n",
            "│ 17 │ 0.591 │  0.72 │      0.129 │         -0.089 │\n",
            "├────┼───────┼───────┼────────────┼────────────────┤\n",
            "│ 18 │ 0.594 │  0.76 │      0.166 │         -0.126 │\n",
            "├────┼───────┼───────┼────────────┼────────────────┤\n",
            "│ 19 │ 0.631 │  0.8  │      0.169 │         -0.129 │\n",
            "├────┼───────┼───────┼────────────┼────────────────┤\n",
            "│ 20 │ 0.772 │  0.84 │      0.068 │         -0.028 │\n",
            "├────┼───────┼───────┼────────────┼────────────────┤\n",
            "│ 21 │ 0.787 │  0.88 │      0.093 │         -0.053 │\n",
            "├────┼───────┼───────┼────────────┼────────────────┤\n",
            "│ 22 │ 0.926 │  0.92 │     -0.006 │          0.046 │\n",
            "├────┼───────┼───────┼────────────┼────────────────┤\n",
            "│ 23 │ 0.932 │  0.96 │      0.028 │          0.012 │\n",
            "├────┼───────┼───────┼────────────┼────────────────┤\n",
            "│ 24 │ 0.951 │  1    │      0.049 │         -0.009 │\n",
            "╘════╧═══════╧═══════╧════════════╧════════════════╛\n",
            "0.16900000000000004\n",
            "0.129\n",
            "El maximo de los dos es D: 0.16900000000000004\n",
            "Valor crítico de Kolmogorov, d_n: 0.26404165128797874\n",
            "No se rechaza la hipótesis nula: Los datos siguen una distribución uniforme. Pues 0.16900000000000004 < 0.26404165128797874\n"
          ]
        }
      ],
      "source": [
        "from tabulate import tabulate\n",
        "import pandas as pd\n",
        "from scipy.stats import ksone\n",
        "Lista = [\n",
        "    0.048, 0.591, 0.478, 0.166, 0.932,\n",
        "    0.926, 0.007, 0.551, 0.362, 0.533,\n",
        "    0.368, 0.437, 0.178, 0.411, 0.545,\n",
        "    0.787, 0.594, 0.086, 0.951, 0.772,\n",
        "    0.298, 0.199, 0.157, 0.401, 0.631\n",
        "]\n",
        "\n",
        "\n",
        "Lista.sort()    #Ordena la lista\n",
        "#Generar lo que estará en cada columna que formará nuestra tabla\n",
        "Lista_visualizacion = [x for x in Lista]  #Valores de equis\n",
        "Division = [i/len(Lista) for i in range(1, len(Lista)+1)] #Divide la pocisión de x entre el total de la muestra\n",
        "resta =  [d - l_v for d, l_v in zip(Division,Lista_visualizacion)] #Une dos columnas para restarlas entre ellas\n",
        "cociente = [(i-1)/len(Lista) for i in range(1, len(Lista)+1)]  # Une dos columnas para dividirlas entre ellas\n",
        "resta_cociente = [L_v - c for L_v, c in zip(Lista_visualizacion, cociente)]\n",
        "#Creamos el formato de la tabla\n",
        "tabla = pd.DataFrame({\n",
        "    \"Xi\": Lista_visualizacion,\n",
        "    \"i/n\": Division,\n",
        "    \"i/n - Xi\": resta,\n",
        "    \"Xi - (i-1)/n\": resta_cociente,\n",
        "})\n",
        "print(tabulate(tabla, headers=\"keys\", tablefmt=\"fancy_grid\" ))\n",
        "#Sacamos el valor absoluto de cada valor de la columna que se trate\n",
        "A = [abs(x) for x in resta]\n",
        "B = [abs(x) for x in resta_cociente]\n",
        "#Buscamos el valor máximo de cada columna$\n",
        "a = max(A)\n",
        "print(a)\n",
        "b = max(B)\n",
        "print(b)\n",
        "D = max(a,b)\n",
        "print(f\"El maximo de los dos es D: {D}\")\n",
        "n = len(Lista)\n",
        "alpha = 0.05\n",
        "\n",
        "# Obtiene el valor crítico de la tabla de Kolmogorov-Smirnov\n",
        "D_tabla = ksone.ppf(1 - alpha / 2, n)\n",
        "print(f\"Valor crítico de Kolmogorov, d_n: {D_tabla}\")\n",
        "if D > D_tabla:\n",
        "    print(f\"Se rechaza la hipótesis nula: Los datos no siguen una distribución uniforme. Pues {D} > {D_tabla}\")\n",
        "else:\n",
        "    print(f\"No se rechaza la hipótesis nula: Los datos siguen una distribución uniforme. Pues {D} < {D_tabla}\")\n"
      ]
    }
  ]
}