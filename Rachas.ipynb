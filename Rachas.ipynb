{
  "nbformat": 4,
  "nbformat_minor": 0,
  "metadata": {
    "colab": {
      "provenance": [],
      "authorship_tag": "ABX9TyM1zmDBeDjq2pTvfN86o0id",
      "include_colab_link": true
    },
    "kernelspec": {
      "name": "python3",
      "display_name": "Python 3"
    },
    "language_info": {
      "name": "python"
    }
  },
  "cells": [
    {
      "cell_type": "markdown",
      "metadata": {
        "id": "view-in-github",
        "colab_type": "text"
      },
      "source": [
        "<a href=\"https://colab.research.google.com/github/Andrea-24744/Simulaci-n-1/blob/main/Rachas.ipynb\" target=\"_parent\"><img src=\"https://colab.research.google.com/assets/colab-badge.svg\" alt=\"Open In Colab\"/></a>"
      ]
    },
    {
      "cell_type": "markdown",
      "source": [
        "# RACHAS\n",
        "*Santelices Medina Andrea*\n",
        "\n",
        "<p style=\"text-align: justify;\"> Es una prueba de independencia, sirve para verificar si los datos de una muestra se distribuyen aleatoriamente por debajo y por encima de un determinado punto de corte, como el promedio, mediana, la moda o un punto elegido por el investigador. Además, permite averiguar si la cantidad de rachas observado en alguna muestra es tan pequeño o tan grande, para el rechazo de la hipótesis de independencia entre las rachas observadas.<p>\n",
        "Para aplicarla a una muestra se deben de seguir los siguientes pasos:\n",
        "\n",
        "1. Determinar una secuencia S de unos y ceros, de manera que:\n",
        "\n",
        "*   0  si  $X_i \\leq X_{i-1}$\n",
        "*   1 si $X_i \\geq X_{i-1}$\n",
        "\n",
        "2. Hallar el número de corridas(rachas) observadas $\"Co\"$. Una corrida viene dada por grupos de unos y ceros CONSECUTIVOS.\n",
        "3. Calcular el valor esperado y la varianza del número de corridas así como $Z_0$\n",
        "\n",
        "$$M_{co} = \\frac{2n -1}{3}, \\qquad \\sigma^2_{co} = \\frac{16n - 29}{90}, \\qquad Z_0 = \\frac{ C_0 - \\mu C_0}{σC_0}  $$\n",
        "\n"
      ],
      "metadata": {
        "id": "wwZT7b6AdDac"
      }
    },
    {
      "cell_type": "code",
      "source": [
        "from tabulate import tabulate\n",
        "import pandas as pd\n",
        "import numpy as np\n",
        "from scipy.stats import norm\n",
        "lista = [\n",
        "    0.048, 0.591, 0.478, 0.166, 0.932,\n",
        "    0.926, 0.007, 0.551, 0.362, 0.533,\n",
        "    0.368, 0.437, 0.178, 0.411, 0.545,\n",
        "    0.787, 0.594, 0.086, 0.951, 0.772,\n",
        "    0.298, 0.199, 0.157, 0.401, 0.631\n",
        "]\n",
        "\n",
        "\n",
        "num_filas = 5\n",
        "num_columnas = len(lista) // num_filas  # Calculamos cuántas columnas habría\n",
        "\n",
        "# Reorganizar la lista en una matriz de filas x columnas\n",
        "matriz = np.array(lista).reshape((num_filas, num_columnas), order='F')  # 'F' es llenado por columnas\n",
        "\n",
        "# Aplanamos la matriz en el nuevo orden\n",
        "nueva_lista = matriz.flatten()\n",
        "comparacion = [\"\" if i == 0 else (1 if nueva_lista[i] > nueva_lista[i-1] else 0) for i in range(len(nueva_lista))]\n",
        "\n",
        "N_rachas = 0  # Empezamos con una racha inicial\n",
        "for i in range(1, len(comparacion)):\n",
        "    if comparacion[i] != comparacion[i-1]:  # Cambio de 0 a 1 o de 1 a 0\n",
        "        N_rachas += 1\n",
        "\n",
        "#Generamos las columnas que tendra nuestra tabla\n",
        "tabla = pd.DataFrame({\n",
        "    \"Valores\": nueva_lista,\n",
        "    \"Límite Sup\": comparacion,\n",
        "\n",
        "})\n",
        "#Damos formato a nuestra tabla\n",
        "print(tabulate(tabla, headers=\"keys\", tablefmt=\"fancy_grid\"))\n",
        "print(f\"El número de rachas presentado fue: {N_rachas}\")\n",
        "\n",
        "\n",
        "#Definir cada incógnita para determinar sus valores\n",
        "M_Co = (2*len(lista) -1)/3\n",
        "print(f\"El valor de M_Co es: {M_Co}\")\n",
        "\n",
        "Q_Co2 = (16*len(lista) - 29)/90\n",
        "print(f\"El valor de Q^2 es: {Q_Co2}\")\n",
        "\n",
        "Q = np.sqrt(Q_Co2)\n",
        "print(f\"El valor de Q es: {Q}\")\n",
        "\n",
        "Zo = (N_rachas - M_Co)/Q\n",
        "print(f\"El valor de Zo es: {Zo}\")\n",
        "\n",
        "alpha = 0.05  # Nivel de significancia\n",
        "Z_alpha_medios = norm.ppf(1 - (alpha / 2))  # Calcula Z para la cola superior\n",
        "print(f\"El valor de Z_a/2 es: {Z_alpha_medios}\")\n",
        "\n",
        "if abs(Zo) > Z_alpha_medios:  # Para nivel de confianza del 95%\n",
        "    print(\"Rechazamos la hipótesis de independencia.\")\n",
        "else:\n",
        "    print(f\"No se rechaza la hipótesis de independiencia, pues {-Z_alpha_medios} < {Zo} < {Z_alpha_medios}.\")\n"
      ],
      "metadata": {
        "colab": {
          "base_uri": "https://localhost:8080/"
        },
        "id": "Tef3IPWMPLt2",
        "outputId": "15bb8716-94d5-4218-cdc6-83c714209c08"
      },
      "execution_count": null,
      "outputs": [
        {
          "output_type": "stream",
          "name": "stdout",
          "text": [
            "╒════╤═══════════╤══════════════╕\n",
            "│    │   Valores │ Límite Sup   │\n",
            "╞════╪═══════════╪══════════════╡\n",
            "│  0 │     0.048 │              │\n",
            "├────┼───────────┼──────────────┤\n",
            "│  1 │     0.926 │ 1            │\n",
            "├────┼───────────┼──────────────┤\n",
            "│  2 │     0.368 │ 0            │\n",
            "├────┼───────────┼──────────────┤\n",
            "│  3 │     0.787 │ 1            │\n",
            "├────┼───────────┼──────────────┤\n",
            "│  4 │     0.298 │ 0            │\n",
            "├────┼───────────┼──────────────┤\n",
            "│  5 │     0.591 │ 1            │\n",
            "├────┼───────────┼──────────────┤\n",
            "│  6 │     0.007 │ 0            │\n",
            "├────┼───────────┼──────────────┤\n",
            "│  7 │     0.437 │ 1            │\n",
            "├────┼───────────┼──────────────┤\n",
            "│  8 │     0.594 │ 1            │\n",
            "├────┼───────────┼──────────────┤\n",
            "│  9 │     0.199 │ 0            │\n",
            "├────┼───────────┼──────────────┤\n",
            "│ 10 │     0.478 │ 1            │\n",
            "├────┼───────────┼──────────────┤\n",
            "│ 11 │     0.551 │ 1            │\n",
            "├────┼───────────┼──────────────┤\n",
            "│ 12 │     0.178 │ 0            │\n",
            "├────┼───────────┼──────────────┤\n",
            "│ 13 │     0.086 │ 0            │\n",
            "├────┼───────────┼──────────────┤\n",
            "│ 14 │     0.157 │ 1            │\n",
            "├────┼───────────┼──────────────┤\n",
            "│ 15 │     0.166 │ 1            │\n",
            "├────┼───────────┼──────────────┤\n",
            "│ 16 │     0.362 │ 1            │\n",
            "├────┼───────────┼──────────────┤\n",
            "│ 17 │     0.411 │ 1            │\n",
            "├────┼───────────┼──────────────┤\n",
            "│ 18 │     0.951 │ 1            │\n",
            "├────┼───────────┼──────────────┤\n",
            "│ 19 │     0.401 │ 0            │\n",
            "├────┼───────────┼──────────────┤\n",
            "│ 20 │     0.932 │ 1            │\n",
            "├────┼───────────┼──────────────┤\n",
            "│ 21 │     0.533 │ 0            │\n",
            "├────┼───────────┼──────────────┤\n",
            "│ 22 │     0.545 │ 1            │\n",
            "├────┼───────────┼──────────────┤\n",
            "│ 23 │     0.772 │ 1            │\n",
            "├────┼───────────┼──────────────┤\n",
            "│ 24 │     0.631 │ 0            │\n",
            "╘════╧═══════════╧══════════════╛\n",
            "El número de rachas presentado fue: 16\n",
            "El valor de M_Co es: 16.333333333333332\n",
            "El valor de Q^2 es: 4.122222222222222\n",
            "El valor de Q es: 2.030325644378808\n",
            "El valor de Zo es: -0.16417727582577904\n",
            "El valor de Z_a/2 es: 1.959963984540054\n",
            "No se rechaza la hipótesis de independiencia, pues -1.959963984540054 < -0.16417727582577904 < 1.959963984540054.\n"
          ]
        }
      ]
    }
  ]
}