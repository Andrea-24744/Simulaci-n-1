{
  "nbformat": 4,
  "nbformat_minor": 0,
  "metadata": {
    "colab": {
      "provenance": [],
      "authorship_tag": "ABX9TyMqbUUZxaZrLWba+jwNk5WP",
      "include_colab_link": true
    },
    "kernelspec": {
      "name": "python3",
      "display_name": "Python 3"
    },
    "language_info": {
      "name": "python"
    }
  },
  "cells": [
    {
      "cell_type": "markdown",
      "metadata": {
        "id": "view-in-github",
        "colab_type": "text"
      },
      "source": [
        "<a href=\"https://colab.research.google.com/github/Andrea-24744/Simulaci-n-1/blob/main/M%C3%A9todo_Box_Muller.ipynb\" target=\"_parent\"><img src=\"https://colab.research.google.com/assets/colab-badge.svg\" alt=\"Open In Colab\"/></a>"
      ]
    },
    {
      "cell_type": "markdown",
      "source": [
        "# Método Box-Muller\n",
        "*Santelices Medina Andrea*\n",
        "\n",
        "<p style=\"text-align: justify;\">El método de Box-Müller permite transformar dos variables aleatorias independientes con distribución uniforme en el intervalo $(0, 1)$, en dos variables independientes con distribución normal estándar $N(0,1)$.</p>\n",
        "\n",
        "\n",
        "<p style=\"text-align: justify;\">La base del método es que la densidad conjunta de dos variables aleatorias normales estándar independientes $X_1$ y $X_2$ es:</p>\n",
        "\n",
        "$$\n",
        "f(x_1, x_2) = \\frac{1}{2\\pi} e^{-\\frac{1}{2}(x_1^2 + x_2^2)}\n",
        "$$\n",
        "\n",
        "<p style=\"text-align: justify;\">Esta función de densidad es radialmente simétrica: depende únicamente de la distancia al origen, es decir, del valor $r^2 = x_1^2 + x_2^2$. Esto sugiere transformación de coordenadas cartesianas a polares</p>\n",
        "\n",
        "\n",
        "$$\n",
        "R^2 = x_1^2 + x_2^2, \\quad \\theta = \\arctan\\left(\\frac{x_2}{x_1}\\right)\n",
        "$$\n",
        "\n",
        "Al hacer el cambio de variables, se observa que:\n",
        "\n",
        "- $R^2$ sigue una distribución $\\chi^2(2)$, que es equivalente a una distribución exponencial con parámetro 1 $(R^2 \\sim \\quad \\text{Exponencial(1)})$. Por lo tanto:\n",
        "\n",
        "$$\n",
        "R = \\sqrt{-2 \\ln U_1}\n",
        "$$\n",
        "\n",
        "- $\\theta$ está uniformemente distribuido en el intervalo $[0, 2\\pi)$, por lo que se puede tomar:\n",
        "\n",
        "$$\n",
        "\\theta = 2\\pi U_2\n",
        "$$\n",
        "donde $U_1$ y $U_2$ son variables independientes con distribución uniforme en $(0,1)$.\n",
        "\n",
        "\n",
        "Aplicando estas transformaciones, se obtienen dos variables normales estándar independientes:\n",
        "\n",
        "$$\n",
        "X_1 = \\sqrt{-2 \\ln U_1} \\cdot \\cos(2\\pi U_2)\n",
        "$$\n",
        "\n",
        "$$\n",
        "X_2 = \\sqrt{-2 \\ln U_1} \\cdot \\sin(2\\pi U_2)\n",
        "$$\n",
        "\n",
        "\n",
        "\n",
        "<p style=\"text-align: justify;\">Este procedimiento genera dos variables $X_1$ y $X_2$ que son independientes y tienen distribución normal estándar $N(0,1)$. La transformación garantiza que se preserva la independencia y que la distribución conjunta de las variables transformadas es la esperada:</p>\n",
        "\n",
        "\n",
        "$$\n",
        "f(X_1, X_2) = f(X_1) f(X_2) = \\frac{1}{\\sqrt{2\\pi}} e^{-\\frac{X_1^2}{2}} \\cdot \\frac{1}{\\sqrt{2\\pi}} e^{-\\frac{X_2^2}{2}}\n",
        "$$\n",
        "\n",
        "<p style=\"text-align: justify;\"> Box y Müller (1958), este método resulta computacionalmente conveniente, ya que solo requiere operaciones básicas (logaritmos, raíces cuadradas y funciones trigonométricas).</p>\n",
        "\n",
        "\n",
        "\n",
        "###Algoritmo de Box-Müller (1958)###\n",
        "\n",
        "1. Generar dos variables independientes $U_1, U_2 \\sim \\mathcal{U}(0, 1) $.\n",
        "2. Calcular:\n",
        "    $$\n",
        "    R = \\sqrt{-2 \\ln U_1}, \\qquad \\theta = 2\\pi U_2\n",
        "    $$\n",
        "    \n",
        "3.  Determinar:\n",
        "    $$\n",
        "    X_1 = R \\cos \\theta, \\qquad X_2 = R \\sin \\theta$$\n",
        "    \n",
        "    $$ \\text{donde} \\quad  X_1, X_2 \\sim \\mathcal{N}(0, 1) \\quad \\text{son independientes.}$$\n",
        "\n",
        "Programemos entonces nuestro algoritmo:"
      ],
      "metadata": {
        "id": "_L9ZLBXDrepK"
      }
    },
    {
      "cell_type": "code",
      "execution_count": 84,
      "metadata": {
        "colab": {
          "base_uri": "https://localhost:8080/",
          "height": 430
        },
        "id": "Ery0roKGc9N3",
        "outputId": "40708cbd-b5fa-411b-c006-a62bd1b5fe09"
      },
      "outputs": [
        {
          "output_type": "display_data",
          "data": {
            "text/plain": [
              "<Figure size 640x480 with 1 Axes>"
            ],
            "image/png": "[encoded data removed]"
          },
          "metadata": {}
        }
      ],
      "source": [
        "import random as rd\n",
        "import numpy as np\n",
        "import matplotlib.pyplot as plt\n",
        "import math\n",
        "\n",
        "\n",
        "def Box_M(n):\n",
        "  l = []\n",
        "  for _ in range(n):\n",
        "      u_1 = rd.random()  # Generamos 2 números aleatorios\n",
        "      u_2 = rd.random()\n",
        "      R = math.sqrt(-2*math.log(u_1)) # Determinamos nuestra función R\n",
        "      T = 2*math.pi*u_2               # Determinamos nuestra función Teta\n",
        "      X_1 = R*math.cos(T)               # Definimos nuestra primer variable independiente\n",
        "      X_2 = R*math.sin(T)               # Definimos nuestra segunda variable independiente\n",
        "      l.append(X_1)                     # Guardamos ambas en la lista\n",
        "      l.append(X_2)\n",
        "  return l\n",
        "\n",
        "# Generamos histograma\n",
        "g = Box_M(80000)\n",
        "plt.hist(g, bins = 100, color =\"c\",edgecolor =\"black\")\n",
        "plt.show()"
      ]
    },
    {
      "cell_type": "code",
      "source": [
        "# Determinamos su media, varianza y desviación estandar de la muestra\n",
        "print(\"La media es: \", np.mean(g))\n",
        "print(\"La varianza es: \", np.var(g))\n",
        "print(\"La desviacion estandar es: \", np.std(g))"
      ],
      "metadata": {
        "colab": {
          "base_uri": "https://localhost:8080/"
        },
        "id": "ZQWmAm7ckXF7",
        "outputId": "f2b8e505-a0ea-4e3e-ecf1-377ad3df03ca"
      },
      "execution_count": 85,
      "outputs": [
        {
          "output_type": "stream",
          "name": "stdout",
          "text": [
            "La media es:  0.00019120525996427914\n",
            "La varianza es:  1.0007686219288285\n",
            "La desviacion estandar es:  1.0003842371453224\n"
          ]
        }
      ]
    },
    {
      "cell_type": "code",
      "source": [
        "# La distribución normal estandar (distribución Z) tiene los valores teóricos de:\n",
        "print(\"La media es: 0 \")\n",
        "print(\"La varianza es: 1 \")\n",
        "print(\"La desviacion estandar es: 1 \")"
      ],
      "metadata": {
        "colab": {
          "base_uri": "https://localhost:8080/"
        },
        "id": "fxjWzbfVlVoD",
        "outputId": "fb389962-37f1-4984-9f2b-4f92cdca498c"
      },
      "execution_count": 86,
      "outputs": [
        {
          "output_type": "stream",
          "name": "stdout",
          "text": [
            "La media es: 0 \n",
            "La varianza es: 1 \n",
            "La desviacion estandar es: 1 \n"
          ]
        }
      ]
    },
    {
      "cell_type": "code",
      "source": [
        "# Determinemos el error observado en cada caso\n",
        "print(\"El error de la media es: \", abs(np.mean(g)-0))\n",
        "print(\"El error de la varianza es: \", abs(np.var(g)-1))\n",
        "print(\"El error de la desviacion estandar es: \", abs(np.std(g)-1))"
      ],
      "metadata": {
        "colab": {
          "base_uri": "https://localhost:8080/"
        },
        "id": "CEAPcKqtoROo",
        "outputId": "4a3f0ee6-4112-4692-cfbc-7b853cbf40df"
      },
      "execution_count": 87,
      "outputs": [
        {
          "output_type": "stream",
          "name": "stdout",
          "text": [
            "El error de la media es:  0.00019120525996427914\n",
            "El error de la varianza es:  0.000768621928828539\n",
            "El error de la desviacion estandar es:  0.00038423714532243025\n"
          ]
        }
      ]
    }
  ]
}