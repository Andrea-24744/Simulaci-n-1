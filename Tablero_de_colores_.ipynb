{
  "nbformat": 4,
  "nbformat_minor": 0,
  "metadata": {
    "colab": {
      "provenance": [],
      "authorship_tag": "ABX9TyPu3RNIbwk9FGpA4XbFFMZr",
      "include_colab_link": true
    },
    "kernelspec": {
      "name": "python3",
      "display_name": "Python 3"
    },
    "language_info": {
      "name": "python"
    }
  },
  "cells": [
    {
      "cell_type": "markdown",
      "metadata": {
        "id": "view-in-github",
        "colab_type": "text"
      },
      "source": [
        "<a href=\"https://colab.research.google.com/github/Andrea-24744/Simulaci-n-1/blob/main/Tablero_de_colores_.ipynb\" target=\"_parent\"><img src=\"https://colab.research.google.com/assets/colab-badge.svg\" alt=\"Open In Colab\"/></a>"
      ]
    },
    {
      "cell_type": "markdown",
      "source": [
        "#**JUEGO DEL TABLERO**\n",
        "\n",
        "*Andrea Santelices Medina*\n",
        "\n",
        "<div align=\"center\">\n",
        "<img src = \"https://lh3.googleusercontent.com/drive-storage/AJQWtBNT3-qI1YxxFpMDaUERxvhJ2pKikJg36skdg1nNAF4vCs3TPa2ZEh9MU_WG6VjxEE3_RRuLWPOVhddqw1K1Bv5bovZizSizcMxUbt3kvT1v0w=w1366-h633\" width = \"500\"/>\n",
        "</div>\n",
        "\n",
        "---\n",
        "---\n",
        "\n",
        "<p style=\"text-align: justify;\"> Para la resolución de este ejercicio se siguió los siguiente:</p>\n",
        "\n",
        "1. Probabilidad de los posibles estados de las dos monedas $$P(\\mathbb{CC}) =\\frac{1}{4}, \\quad P(\\mathbb{CS}) = P(\\mathbb{SC}) =\\frac{1}{2}, \\quad P(\\mathbb{SS}) =\\frac{1}{4} $$\n",
        "\n",
        "2. Asignación de 4 probabilidades  para cada secto (*color*), tras ***n*** lanzamientos. Siendo A = Azul, R = Rojo, V = Verde, N = Naranja\n",
        "\n",
        "$$X_n = P(N), \\quad Y_n = P (A), \\quad Z_n = P(V), \\quad T_n = P(R)$$\n",
        "\n",
        "3. Analizamos para casos particulares $\\quad i.e \\quad n = 1,2... \\quad \\$Para ello se utilizó el Teorama de Bayes, el cual establece que la porbabilidad de un conjunto (**B**) particionado en diversoso subconjuntos, de modo que cada subconjunto es mutuamente excluyente entre si, es igual a :\n",
        "\n",
        "$$P(B) = \\sum_{i \\in \\mathbb{C}}P(B|A_i)P(A_i)$$\n",
        "\n",
        "4. Aplicandolo entonces a cada sector, se llego a la siguiente expresión general de forma matricial:\n",
        "\n",
        "\\begin{equation}\n",
        "\\begin{pmatrix}\n",
        "X_n \\\\\n",
        "Y_n \\\\\n",
        "Z_n \\\\\n",
        "T_n  \\\\\n",
        "\\end{pmatrix} = \\begin{pmatrix}\n",
        "\\frac{1}{4} & 0 & \\frac{1}{4} & \\frac{1}{2}\\\\\n",
        "\\frac{1}{2} & \\frac{1}{4} & 0 & \\frac{1}{4} \\\\\n",
        "\\frac{1}{4} & \\frac{1}{2} & \\frac{1}{4} & 0\\\\\n",
        "0 & \\frac{1}{4} & \\frac{1}{2} & \\frac{1}{4}\n",
        "\\end{pmatrix}^n \\begin{pmatrix}\n",
        "X_0 \\\\\n",
        "Y_0 \\\\\n",
        "Z_0 \\\\\n",
        "T_0  \\\\\n",
        "\\end{pmatrix}\n",
        "\\end{equation}\n",
        "\n",
        "Determinamos así que la probabilidad de caer en cada sector, es decir, en cada uno de los 4 colores es:\n",
        "\n",
        "$$X_n = P(N) \\approx 0.25, \\quad Y_n = P (A) \\approx 0.25, \\quad Z_n = P(V)\\approx 0.25, \\quad T_n = P(R)\\approx 0.25$$\n",
        "\n",
        "Ahora, resolveremos este mismo problema por simulación:"
      ],
      "metadata": {
        "id": "v4iE8A0m2Kke"
      }
    },
    {
      "cell_type": "code",
      "source": [
        "\n",
        "import random as rd\n",
        "import matplotlib.pyplot as plt\n",
        "import numpy as np\n",
        "\n",
        "# 0-N, 1-A, 2-V, 3-R\n",
        "\n",
        "# 0 dos cruces\n",
        "# 1 uno y uno\n",
        "# 2 dos caras\n",
        "\n",
        "\n",
        "def n_soles_bi(): # Distribución que sigue el número de casillas a avanzar según los soles que hayan salido en la DOS monedas.\n",
        "                      # Al ser independientes cada evento (moneda),  tienen una probabilidad de 0.5 de que salga sol.\n",
        "    return np.random.binomial(2, 0.5)  # devuelve el número de casillas a avanzar: 0, 1 o 2\n",
        "\n",
        "# Traslación en tablero\n",
        "def mover(pos, n_colores):\n",
        "    avance = n_soles_bi()  # Saber cuantas casillas hay que avanzar\n",
        "    pos += avance              # Partiendo de una posisicón arbitraria inicial, le sumaremos las casillas a avanzar\n",
        "    return pos % n_colores   # Contar ciclicamente, pues asingando 0-N, 1-A, 2-V, 3-R, al avanzar, no lo haremos en \"linea recta\"\n",
        "                     # por lo que al obtener el residuo de esa división nos permite \"volver a empezar\" el conteo calculando así\n",
        "                     # dónde quedarás después de un movimiento\n",
        "\n",
        "\n",
        "def una_partida(n_jugadas, n_colores=4):\n",
        "    pos = 3                          # Fijamos una posición incial de color (para este caso 0 = Naranja)\n",
        "    for _ in range(n_jugadas):       # Generamos una partida completa con n jugadas, returnando el color final en el que caíste\n",
        "        pos = mover(pos, n_colores)  # Por cada movimeinto se actualiza la posición\n",
        "    return pos\n",
        "\n",
        "# Simulamos m partidas\n",
        "def jugar_partidas(m, n_jugadas, n_colores=4):\n",
        "    # Inicializamos el diccionario de colores (cada clave/número es un color)\n",
        "    C = {i: 0 for i in range(n_colores)}\n",
        "    for _ in range(m): # Repetimos el experimento m-veces\n",
        "        final_pos = una_partida(n_jugadas, n_colores) # Llama a la función para reaizar una \"partida completa\", guardando la posición-color en la que quedo\n",
        "        C[final_pos] += 1 # sumamos uno para contar que se termino en ese color\n",
        "\n",
        "    # Convertimos a probabilidades dividiendo por m (cantidad total de \"tiradas= num. de veces que lansaste las 2 monedas\")\n",
        "    prob = {color: cuenta / m for color, cuenta in C.items()} #Divide cada cuenta (veces que terminoo UNA oartida en ese color)\n",
        "    return prob # Returnamos diccionario de probabilidades finales                       #entre el numero total de partida\n",
        "\n",
        "A = jugar_partidas(m=100000, n_jugadas=100)\n",
        "\n",
        "for color, prob in sorted(A.items()):\n",
        "    print(f\"Color {color}: {prob:.4f}\")"
      ],
      "metadata": {
        "colab": {
          "base_uri": "https://localhost:8080/"
        },
        "id": "FJWUun-cipC1",
        "outputId": "97c1161e-402f-423f-9e5b-39c4bd188b4b"
      },
      "execution_count": 24,
      "outputs": [
        {
          "output_type": "stream",
          "name": "stdout",
          "text": [
            "Color 0: 0.2486\n",
            "Color 1: 0.2525\n",
            "Color 2: 0.2498\n",
            "Color 3: 0.2491\n"
          ]
        }
      ]
    },
    {
      "cell_type": "code",
      "execution_count": 23,
      "metadata": {
        "colab": {
          "base_uri": "https://localhost:8080/"
        },
        "id": "dpix8CoICS-W",
        "outputId": "4de6d749-c267-4ea0-ba44-357ce046f126"
      },
      "outputs": [
        {
          "output_type": "stream",
          "name": "stdout",
          "text": [
            "Color 0: 0.0000\n",
            "Color 1: 0.2516\n",
            "Color 2: 0.5006\n",
            "Color 3: 0.2478\n"
          ]
        }
      ],
      "source": [
        "# IDEAS\n",
        "\n",
        "import random as rd\n",
        "import matplotlib.pyplot as plt\n",
        "import numpy as np\n",
        "# 0-N, 1-A, 2-V, 3-R\n",
        "# 0 dos cruces\n",
        "# 1 uno y uno\n",
        "# 2 dos caras\n",
        "\n",
        "\n",
        "def c_s():\n",
        "  #Generamos las \"dos monedas\"\n",
        "    x = rd.random()\n",
        "    y = rd.random()\n",
        "    # Teniendo en mente que el intervalo que se le asigna a sol es de 0 a 0.5, y aguila/cruz de 0.5 a 1\n",
        "    if x <= 0.5 and y <= 0.5:   # Cuando ambas fueron sol avanza 2 casillas\n",
        "      return 2\n",
        "    if x > 0.5 and y <= 0.5:    # Cuando se alternaron avanza 1 casilla, ya sea águila-sol o sol-águila, es el mismo caso\n",
        "      return 1\n",
        "    if x <= 0.5 and y > 0.5:\n",
        "      return 1\n",
        "    if x > 0.5 and y > 0.5:     # Cuando ambas fueron aguila/cruz avanza 0 casillas\n",
        "      return 0\n",
        "\n",
        "def posicion_ciclica(pos, n=4):\n",
        "    a = c_s()    # Saber cuantas casillas hay que avanzar\n",
        "    pos += a     # Partiendo de una posisicón arbitraria inicial, le sumaremos las casillas a avanzar\n",
        "    return pos % n   # Contar ciclicamente, pues asingando 0-N, 1-A, 2-V, 3-R, al avanzar, no lo haremos en \"linea recta\"\n",
        "                     # por lo que al obtener el residuo de esa división nos permite \"volver a empezar\" el conteo calculando así\n",
        "                     # dónde quedarás después de un movimiento\n",
        "\n",
        "\n",
        "def simular_juego(n):\n",
        "    n_colores = 4\n",
        "    contador = [0] * n_colores  #Asinga un contador inicial para lo 4 sectores posibles a caer\n",
        "\n",
        "    for _ in range(n):\n",
        "        pos = 1\n",
        "        nueva_pos = posicion_ciclica(pos, n_colores)\n",
        "        contador[nueva_pos] += 1\n",
        "\n",
        "    probabilidades = [c / n for c in contador]\n",
        "    return probabilidades\n",
        "\n",
        "# Ejecutar simulación\n",
        "resultados = simular_juego(100000)\n",
        "for i, prob in enumerate(resultados):\n",
        "    print(f\"Color {i}: {prob:.4f}\")"
      ]
    },
    {
      "cell_type": "code",
      "source": [],
      "metadata": {
        "id": "zgUYvwmC0Rxz"
      },
      "execution_count": null,
      "outputs": []
    }
  ]
}