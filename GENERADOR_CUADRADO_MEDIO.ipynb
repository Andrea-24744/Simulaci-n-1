{
  "nbformat": 4,
  "nbformat_minor": 0,
  "metadata": {
    "colab": {
      "provenance": [],
      "authorship_tag": "ABX9TyOItlRNsjGS/O10PsJLALHJ",
      "include_colab_link": true
    },
    "kernelspec": {
      "name": "python3",
      "display_name": "Python 3"
    },
    "language_info": {
      "name": "python"
    }
  },
  "cells": [
    {
      "cell_type": "markdown",
      "metadata": {
        "id": "view-in-github",
        "colab_type": "text"
      },
      "source": [
        "<a href=\"https://colab.research.google.com/github/Andrea-24744/Simulaci-n-1/blob/main/GENERADOR_CUADRADO_MEDIO.ipynb\" target=\"_parent\"><img src=\"https://colab.research.google.com/assets/colab-badge.svg\" alt=\"Open In Colab\"/></a>"
      ]
    },
    {
      "cell_type": "markdown",
      "source": [
        "# GENERADOR CUADRADO MEDIO\n",
        "*Santelices Medina Andrea*\n",
        "\n",
        "<p style=\"text-align: justify;\">John von Neumann desarrolló el método del cuadrado medio en 1946, como uno de los primeros y más conspicuos generadores informáticos. Iniciamos con un número, digamos de cuatro dígitos, lo elevamos al cuadrado y extraemos los cuatro dígitos centrales y así sucesivamente. En términos prácticos y para mayor complejidad y seguridad, el matemático utilizó números iniciales de diez guarismos, respetando las mismas reglas.</p>\n",
        "\n",
        "<p style=\"text-align: justify;\">Posterior a la generacion de los $X_n$ se observara el ciclo de vida de los valores obtenidos, el cual, no es más que la secuencia de números que produce antes de que se repita un patron cíclico, es decir, la cantidad de $X_n$ antes de que reaparezca cualquiera de las anteriores.</p>\n",
        "\n",
        "Entonces, realicemos un ejemplo utilizando este generador:"
      ],
      "metadata": {
        "id": "fWAgpBgZnRwl"
      }
    },
    {
      "cell_type": "code",
      "source": [
        "#DOCUMENTADO#\n",
        "import pandas as pd\n",
        "import matplotlib.pyplot as plt\n",
        "from tabulate import tabulate\n",
        "\n",
        "def ext_centro(numero):       #Extrae 4 dígitos centrales de un número cuadrado\n",
        "    num_str = str(numero).zfill(8)   # Asegura que tenga 8 dígitos con ceros a la izquierda\n",
        "    return int(num_str[2:6].zfill(4))  # Toma los 4 dígitos del centro\n",
        "\n",
        "while True:\n",
        "    try:\n",
        "        semilla = int(input(\"Ingresa un número de 4 cifras como semilla: \"))   #Ingresar una semilla de solo 4 numeros\n",
        "        if 1000 <= semilla <= 9999:\n",
        "            break\n",
        "        else:\n",
        "            print(\"Error: Debes ingresar un número de 4 cifras.\")\n",
        "    except ValueError:\n",
        "        print(\"Error: Ingresa solo números enteros.\")\n",
        "\n",
        "valores = []   #Crea lista vacia\n",
        "almacenar = {}  # Diccionario para rastrear cuándo aparece cada valor\n",
        "Xn = semilla\n",
        "\n",
        "while Xn not in almacenar:    #Generación hasta encontrar un ciclo\n",
        "    almacenar[Xn] = len(valores)   #Guardamos la posición donde apareció\n",
        "    valores.append(Xn)   #Guardamos el valor\n",
        "    Xn = ext_centro(Xn**2)   #Generamos el siguiente número\n",
        "\n",
        "\n",
        "inicio_ciclo = almacenar[Xn]   #Determinar el ciclo, dónde empezó a repetirse\n",
        "longitud_ciclo = len(valores) - inicio_ciclo    #Cuántos números hay en el ciclo\n",
        "\n",
        "# Si el ciclo es solo un número que se repite infinitamente, lo indicamos\n",
        "if longitud_ciclo == 1 and valores[inicio_ciclo] == valores[-1]:\n",
        "    mensaje_ciclo = \"Ciclo infinito (el número se repite indefinidamente)\"\n",
        "else:\n",
        "    mensaje_ciclo = f\"Longitud del ciclo: {longitud_ciclo}\"\n",
        "\n",
        "# Normaliza valores (dividir entre 10000 para que estén en [0,1))\n",
        "val_norm = [round(x / 10000, 4) for x in valores ]\n",
        "\n",
        "\n",
        "val_form = [str(x).zfill(4) for x in valores ]  #Si el número impreso no es de 4 dígitos, los completa con ceros a la izquierda\n",
        "val_form.append(val_form[inicio_ciclo])   #Si se presenta un ciclo, hace que se imprima nuevamente la semilla\n",
        "val_norm.append(val_norm[inicio_ciclo])\n",
        "\n",
        "df = pd.DataFrame({            #Establece lo que estara contenido en la tabla\n",
        "    \"Iteración\": list(range(len(val_form))),\n",
        "    \"Valor Generado\": val_form,  # Se usa la versión con ceros a la izquierda\n",
        "    \"Número Normalizado\": val_norm\n",
        "})\n",
        "\n",
        "print(tabulate(df, headers='keys', tablefmt='fancy_grid', showindex=False))   #Da formato e imprime la tabla\n",
        "\n",
        "# Mostrar información del ciclo\n",
        "print(f\"\\nInicio del ciclo: índice {inicio_ciclo}, valor {val_form[inicio_ciclo]}\")\n",
        "print(f\"Longitud del ciclo: {longitud_ciclo}\")"
      ],
      "metadata": {
        "colab": {
          "base_uri": "https://localhost:8080/"
        },
        "id": "VJV5NhajgCO6",
        "outputId": "ab5ce089-e70f-441f-83a8-9bccb88a6d17"
      },
      "execution_count": 7,
      "outputs": [
        {
          "output_type": "stream",
          "name": "stdout",
          "text": [
            "Ingresa un número de 4 cifras como semilla: 7669\n",
            "╒═════════════╤══════════════════╤══════════════════════╕\n",
            "│   Iteración │   Valor Generado │   Número Normalizado │\n",
            "╞═════════════╪══════════════════╪══════════════════════╡\n",
            "│           0 │             7669 │               0.7669 │\n",
            "├─────────────┼──────────────────┼──────────────────────┤\n",
            "│           1 │             8135 │               0.8135 │\n",
            "├─────────────┼──────────────────┼──────────────────────┤\n",
            "│           2 │             1782 │               0.1782 │\n",
            "├─────────────┼──────────────────┼──────────────────────┤\n",
            "│           3 │             1755 │               0.1755 │\n",
            "├─────────────┼──────────────────┼──────────────────────┤\n",
            "│           4 │             0800 │               0.08   │\n",
            "├─────────────┼──────────────────┼──────────────────────┤\n",
            "│           5 │             6400 │               0.64   │\n",
            "├─────────────┼──────────────────┼──────────────────────┤\n",
            "│           6 │             9600 │               0.96   │\n",
            "├─────────────┼──────────────────┼──────────────────────┤\n",
            "│           7 │             1600 │               0.16   │\n",
            "├─────────────┼──────────────────┼──────────────────────┤\n",
            "│           8 │             5600 │               0.56   │\n",
            "├─────────────┼──────────────────┼──────────────────────┤\n",
            "│           9 │             3600 │               0.36   │\n",
            "├─────────────┼──────────────────┼──────────────────────┤\n",
            "│          10 │             9600 │               0.96   │\n",
            "╘═════════════╧══════════════════╧══════════════════════╛\n",
            "\n",
            "Inicio del ciclo: índice 6, valor 9600\n",
            "Longitud del ciclo: 4\n"
          ]
        }
      ]
    }
  ]
}