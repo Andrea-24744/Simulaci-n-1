{
  "nbformat": 4,
  "nbformat_minor": 0,
  "metadata": {
    "colab": {
      "provenance": [],
      "authorship_tag": "ABX9TyNmSxolfX4R+37NOeHMbq17",
      "include_colab_link": true
    },
    "kernelspec": {
      "name": "python3",
      "display_name": "Python 3"
    },
    "language_info": {
      "name": "python"
    }
  },
  "cells": [
    {
      "cell_type": "markdown",
      "metadata": {
        "id": "view-in-github",
        "colab_type": "text"
      },
      "source": [
        "<a href=\"https://colab.research.google.com/github/Andrea-24744/Simulaci-n-1/blob/main/Disribucion_trangular_por_Met_Aceptaci%C3%B3n_y_Rechazo.ipynb\" target=\"_parent\"><img src=\"https://colab.research.google.com/assets/colab-badge.svg\" alt=\"Open In Colab\"/></a>"
      ]
    },
    {
      "cell_type": "markdown",
      "source": [],
      "metadata": {
        "id": "QCs345J4BPrY"
      }
    },
    {
      "cell_type": "markdown",
      "source": [
        "## METÓDO DE ACEPTACIÓN ##\n",
        "\n",
        "1. Generar dos números aleatorios\n",
        "2. Determinar x $$\\quad x = a + (b-a)R_1$$\n",
        "3. Evaluar $f$ en $x$\n",
        "4. Si $ R_2 \\leq \\frac{f(x)}{M} \\qquad $ Aceptar x\n",
        "\n",
        "\n",
        "Ejemplifiquemoslo utilizando:"
      ],
      "metadata": {
        "id": "wAOSMO8YwYOb"
      }
    },
    {
      "cell_type": "markdown",
      "source": [
        "DISTRIBUCIÓN TRIANGULAR\n",
        "\n",
        "Sea:\n",
        "\n",
        "$$f(x) = \\begin{cases}\n",
        "\\frac{2(x-a)}{(c-a)(b-a)} & \\text{si} & a\\leq x \\leq b \\\\\n",
        "-\\frac{2(x-c)}{(c-a)(c-b)} & \\text{si} & b < x \\leq c\n",
        "\\end{cases}$$\n",
        "\n",
        "Entonces:\n",
        "$$F(x) = \\begin{cases}\n",
        "\\frac{(x-a)2}{(c-a)(b-a)} & \\text{si} & a\\leq x \\leq b \\\\\n",
        "1 - \\frac{(x-c)2}{(c-a)(c-b)} & \\text{si} & b < x \\leq c\n",
        "\\end{cases}$$"
      ],
      "metadata": {
        "id": "P8ClvSEwCG2Q"
      }
    },
    {
      "cell_type": "code",
      "source": [
        "import numpy as np\n",
        "import random as rd\n",
        "import matplotlib.pyplot as plt\n",
        "import math\n",
        "\n",
        "# Sea\n",
        "a=1\n",
        "b=3\n",
        "c=5\n",
        "Max= 2 / (c-a)\n",
        "\n",
        "# Definimos f(x) como la función triangular\n",
        "def f(x):\n",
        "  if a<=x<=b:\n",
        "    return (2*(x-a)) / ((b-a)*(c-a))\n",
        "  elif b<x<=c:\n",
        "    return -(2*(x-c)) / ((c-b)*(c-a))\n",
        "\n",
        "# Realizamos el método de aceptación para la f(x) ya definida\n",
        "def acept_triang(n):\n",
        "    l = []\n",
        "    for i in range(n):\n",
        "        r_1 = rd.random()\n",
        "        r_2 = rd.random() # Generamos 2 números aleatorios\n",
        "        x = a + (c-a)*r_1 # Determinamos x según el método\n",
        "        if r_2 <= f(x)/M: # Establecemos la condición requerida\n",
        "           l.append(x)    # Si la cumple, entonces acpetamos x, por lo que la guardamos en nuestra lista vacía\n",
        "    return l              # Returnamos la lista de x's que fueron aceptadas"
      ],
      "metadata": {
        "id": "Br6xFffYCJ4w"
      },
      "execution_count": null,
      "outputs": []
    },
    {
      "cell_type": "code",
      "source": [
        "3 # Tomamos un \"n\" lo suficientemente grande para tener una aproximación buena e imprimimos la lista de x's\n",
        "s = acept_triang(10000)\n",
        "#print(s)"
      ],
      "metadata": {
        "id": "uJFF5oIyCWpE"
      },
      "execution_count": null,
      "outputs": []
    },
    {
      "cell_type": "code",
      "source": [
        "# Generamos histograma\n",
        "plt.hist(s, bins=50, color=\"pink\", edgecolor='black')\n",
        "plt.show()"
      ],
      "metadata": {
        "colab": {
          "base_uri": "https://localhost:8080/",
          "height": 430
        },
        "id": "ohQKH9MXCabW",
        "outputId": "f7f48b25-5997-43e6-fa66-2b76865861d5"
      },
      "execution_count": null,
      "outputs": [
        {
          "output_type": "display_data",
          "data": {
            "text/plain": [
              "<Figure size 640x480 with 1 Axes>"
            ],
            "image/png": "[encoded data removed]"
          },
          "metadata": {}
        }
      ]
    },
    {
      "cell_type": "code",
      "source": [
        "# Determinamos su media, varianza y desv. estandar aproximadas\n",
        "print(\"La media es:\",np.mean(s))\n",
        "print(\"La varianza es:\",np.var(s))\n",
        "print(\"La desviación estandar es:\",np.std(s))\n",
        "print(\"Tamaño de la muestra: \", len(s))"
      ],
      "metadata": {
        "colab": {
          "base_uri": "https://localhost:8080/"
        },
        "id": "HEVxaqeWCdQR",
        "outputId": "b1ba757c-79a5-4cae-ed56-3a60033b93c9"
      },
      "execution_count": null,
      "outputs": [
        {
          "output_type": "stream",
          "name": "stdout",
          "text": [
            "La media es: 3.0248521841078264\n",
            "La varianza es: 0.6594287131954637\n",
            "La desviación estandar es: 0.8120521616223084\n",
            "Tamaño de la muestra:  840\n"
          ]
        }
      ]
    },
    {
      "cell_type": "markdown",
      "source": [
        "Ahora, para los calculos analíticos de media, varianza y desv. estandar se tiene:\n",
        "\n",
        "$$\n",
        "\\mathbb{E}[X] = \\frac{a + b + c}{3} = \\frac{1 + 3 + 5}{3} = \\frac{9}{3} = 3$$\n",
        "\n",
        "\n",
        "$$\n",
        "\\text{Var}(X) = \\frac{a^2 + b^2 + c^2 - ab - ac - bc}{18} = \\frac{1 + 9 + 25 - 3 - 5 - 15}{18}\n",
        "= \\frac{12}{18} = \\frac{2}{3}\n",
        "$$"
      ],
      "metadata": {
        "id": "pHDg27x_ozz6"
      }
    },
    {
      "cell_type": "code",
      "source": [
        "# Media, varianza y desviación estandar teóricos\n",
        "M = 3\n",
        "V = 2/3\n",
        "l = print(\"La media es: \",M)\n",
        "m = print(\"La varianza es: \",V)\n",
        "n = print(\"La desviación estandar es: \",math.sqrt(V))"
      ],
      "metadata": {
        "id": "jcMkVbJLDfU4",
        "colab": {
          "base_uri": "https://localhost:8080/"
        },
        "outputId": "70c05ac0-f4fe-4f5f-b68c-d74a827d358f"
      },
      "execution_count": null,
      "outputs": [
        {
          "output_type": "stream",
          "name": "stdout",
          "text": [
            "La media es:  3\n",
            "La varianza es:  0.6666666666666666\n",
            "La desviación estandar es:  0.816496580927726\n"
          ]
        }
      ]
    },
    {
      "cell_type": "code",
      "source": [
        "# Calculemos el error observado para cada caso\n",
        "print(\"El error en la media es: \",abs(M-np.mean(s)))\n",
        "print(\"El error en la varianza es: \",abs(V-np.var(s)))\n",
        "print(\"El error en la desviación estandar es: \",abs(math.sqrt(V)-np.std(s)))"
      ],
      "metadata": {
        "colab": {
          "base_uri": "https://localhost:8080/"
        },
        "id": "oXv6EBW7o6ef",
        "outputId": "30e90a36-6653-41ef-9177-7c5f6e8b7a4c"
      },
      "execution_count": null,
      "outputs": [
        {
          "output_type": "stream",
          "name": "stdout",
          "text": [
            "El error en la media es:  0.024852184107826414\n",
            "El error en la varianza es:  0.007237953471202929\n",
            "El error en la desviación estandar es:  0.004444419305417613\n"
          ]
        }
      ]
    },
    {
      "cell_type": "markdown",
      "source": [
        "<p style=\"text-align: justify;\">Se utilizo el mismo tamaño de *n = 10,000* que en el Met.Inverso, notemos que para este método, se requiere de un n más grande para una mejor aproximación, es decir, se concluye que el Método de la transformada inversa es más exacto que el Método de aceptación-rechazo. Sin embargo el Método de aceptación-rechazo es más felxible y fácil de emplear y puede ser usado en casos donde la funcion no tenga inversa o sea demasiado compleja.</p>"
      ],
      "metadata": {
        "id": "ST4teuGUuZXI"
      }
    }
  ]
}