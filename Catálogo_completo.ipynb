{
  "nbformat": 4,
  "nbformat_minor": 0,
  "metadata": {
    "colab": {
      "provenance": [],
      "collapsed_sections": [
        "IlvRSQcACJOI"
      ],
      "authorship_tag": "ABX9TyOzXHIQmB18F+qxIKmGBBDA",
      "include_colab_link": true
    },
    "kernelspec": {
      "name": "python3",
      "display_name": "Python 3"
    },
    "language_info": {
      "name": "python"
    }
  },
  "cells": [
    {
      "cell_type": "markdown",
      "metadata": {
        "id": "view-in-github",
        "colab_type": "text"
      },
      "source": [
        "<a href=\"https://colab.research.google.com/github/Andrea-24744/Simulaci-n-1/blob/main/Cat%C3%A1logo_completo.ipynb\" target=\"_parent\"><img src=\"https://colab.research.google.com/assets/colab-badge.svg\" alt=\"Open In Colab\"/></a>"
      ]
    },
    {
      "cell_type": "markdown",
      "source": [
        "##CONTINUAS##\n",
        "\n",
        "***Santelices Medina Andrea***\n"
      ],
      "metadata": {
        "id": "JNr1j7dhCBzB"
      }
    },
    {
      "cell_type": "markdown",
      "source": [
        "###**Uniforme**###\n",
        "**$$X \\sim U(a,b)$$**\n",
        "\n",
        "---\n",
        "---\n",
        "\n",
        "Densidad $$f(x) = \\begin{cases}\n",
        "\\frac{1}{b-a} & \\text{si} & a\\leq x \\leq b \\\\\n",
        "0 & \\text{otro caso} &\n",
        "\\end{cases}$$\n",
        "\n",
        "\n",
        "<div align=\"center\">\n",
        "<img src = \"https://www.lifeder.com/wp-content/uploads/2020/11/distribucion-uniforme-continua.jpg\" width = \"250\"/>\n",
        "</div>\n",
        "\n",
        "Acumulada $$F(x) =\\begin{cases}\n",
        "0 & \\text{si} & x < a \\\\\n",
        "\\frac{x-a}{b-a} & \\text{si} & a\\leq x \\leq b \\\\\n",
        "1 & \\quad & x > b\n",
        "\\end{cases}$$\n",
        "\n",
        "<div align=\"center\">\n",
        "<img src = \"https://upload.wikimedia.org/wikipedia/commons/thumb/6/63/Uniform_cdf.svg/1280px-Uniform_cdf.svg.png\" width = \"250\"/>\n",
        "</div>\n",
        "\n",
        "- Media: ${\\mu = \\frac{a+b}{2}}$\n",
        "- Varianza: ${\\sigma^2 = \\frac{(b-a)^2}{12}}$\n",
        "- Desviación estándar: ${\\sigma = \\sqrt{\\frac{(b-a)^2}{12}}}$\n",
        "\n",
        "Pseudocódigo\n",
        "\n",
        "1. Generar $ U \\sim U(0,1) $\n",
        "2. Definir $x = Ub + a(1-U)$\n",
        "3. Returnar las $x's$\n"
      ],
      "metadata": {
        "id": "IlvRSQcACJOI"
      }
    },
    {
      "cell_type": "code",
      "execution_count": null,
      "metadata": {
        "colab": {
          "base_uri": "https://localhost:8080/",
          "height": 507
        },
        "id": "eBlKeTGmBJsf",
        "outputId": "294b5432-8255-4232-9358-e5eb4a120294"
      },
      "outputs": [
        {
          "output_type": "display_data",
          "data": {
            "text/plain": [
              "<Figure size 640x480 with 1 Axes>"
            ],
            "image/png": "[encoded data removed]"
          },
          "metadata": {}
        },
        {
          "output_type": "stream",
          "name": "stdout",
          "text": [
            "La media es:, 0.4997568527241183\n",
            "La varianza es:, 0.08336037975859967\n",
            "La desviación estándar es:, 0.2887219765771211\n"
          ]
        }
      ],
      "source": [
        "import random as rd\n",
        "import matplotlib.pyplot as plt\n",
        "import math\n",
        "\n",
        "def unif(a,b,n):\n",
        "   l = []               # Generamos una lista vacía\n",
        "   for _ in range(n):\n",
        "      R = np.random.uniform(0, 1)    # Generamos números aleatorios\n",
        "      x = R*b + (1-R)*a   # Definimos la forma de nuestra x\n",
        "      l.append(x)       # Guardamos en nuestra lista\n",
        "   return l    # Returnamos  los x's'\n",
        "\n",
        "d = unif(0, 1, 400000)\n",
        "\n",
        "# Graficamos el histograma\n",
        "plt.hist(d, bins=80, color='skyblue', edgecolor='black', density= True)\n",
        "plt.title(\"Distribución Uniforme \")\n",
        "plt.show()\n",
        "print(\"La media es:,\", np.mean(d))\n",
        "print(\"La varianza es:,\", np.var(d))\n",
        "print(\"La desviación estándar es:,\", np.std(d))\n"
      ]
    },
    {
      "cell_type": "markdown",
      "source": [
        "###**Triángular**###\n",
        "$$X \\sim \\text{triang}(a, c, b)$$\n",
        "\n",
        "---\n",
        "---\n",
        "\n",
        "Densidad\n",
        "\n",
        "$$f(x) = \\begin{cases}\n",
        "\\frac{2(x-a)}{(b-a)(c-a)} & \\text{si} & a \\leq x \\leq c \\\\\n",
        "-\\frac{2(x-b)}{(b-a)(b-c)} & \\text{si} & c < x \\leq b \\\\\n",
        "0 & \\quad & \\text{otro caso}\n",
        "\\end{cases}$$\n",
        "\n",
        "<div align=\"center\">\n",
        "<img src = \"https://upload.wikimedia.org/wikipedia/commons/thumb/4/45/Triangular_distribution_PMF.png/1280px-Triangular_distribution_PMF.png\" width = \"250\"/>\n",
        "</div>\n",
        "\n",
        "Acumulada\n",
        "$$F(x) = \\begin{cases}\n",
        "0 & \\text{si} & x < a\\\\\n",
        "\\frac{(x-a)^2}{(b-a)(c-a)} & \\text{si} & a\\leq x \\leq c \\\\\n",
        "1 - \\frac{(b-x)^2}{(b-a)(b-c)} & \\text{si} & c < x \\leq b \\\\\n",
        "1 & \\text{si} & x > b\n",
        "\\end{cases}$$\n",
        "\n",
        "<div align=\"center\">\n",
        "<img src = \"https://upload.wikimedia.org/wikipedia/commons/thumb/e/e5/Triangular_distribution_CMF.png/1280px-Triangular_distribution_CMF.png\" width = \"250\"/>\n",
        "</div>\n",
        "\n",
        "- Media: $\\mu = \\frac{a + b + c}{3}$\n",
        "- Varianza: $\\sigma^2 = \\frac{a^2 + b^2 + c^2 - ab - ac - bc}{18}$\n",
        "- Desviación estándar: $\\sigma = \\sqrt{\\frac{a^2 + b^2 + c^2 - ab - ac - bc}{18}}$\n",
        "\n",
        "Pseudocódigo (*Por el metódo de la T. inversa*)\n",
        "\n",
        "1. Generar $ U \\sim U(0,1) $\n",
        "2. Hacemos $F(x) = R$, para obtener $x = F^{-1}(R)$\n",
        "3. Definir $x$ según el intervalo en el que se encuentre:\n",
        "$$x = \\sqrt{R(b-a)(c-a)} + a, \\qquad \\text{Para}\\quad  a\\leq x \\leq c  $$\n",
        "$$x = b - \\sqrt{(1-R)(b-a)(b-c)}  \\qquad \\text{Para}\\quad  c < x \\leq b $$\n",
        "4. Returnar las $x's$\n"
      ],
      "metadata": {
        "id": "g39imzWPC1Qh"
      }
    },
    {
      "cell_type": "code",
      "source": [
        "import random as rd\n",
        "import matplotlib.pyplot as plt\n",
        "import math\n",
        "\n",
        "def trian(a,c,b,n):\n",
        "  x = []               # Generamos una lista vacía\n",
        "  for i in range(n):   # Generamos valores aleatorios que tomará nuestra R para evaluarla en x\n",
        "    R = np.random.uniform(0, 1)\n",
        "    equis = math.sqrt(R*(b-a)*(c-a)) + a\n",
        "    if a < equis < c:  # Específicamos el primer intervalo\n",
        "      x.append(equis)  # Guardamos en nuestra lista los valores q tome x, según su función inversa correspondiente al primer intervalo\n",
        "    elif c < equis < b:\n",
        "      equis = b -math.sqrt((1-R)*(b-a)*(b-c)) # Corresponde a nuestro segundo intervalo\n",
        "      x.append(equis)  # Guardamos en nuestra lista los valores q tome x, según su función inversa correspondiente al segundo intervalo\n",
        "    else:\n",
        "      equis = 1\n",
        "      x.append(equis)\n",
        "  return x    # Returnamos todos los x de ambos intervalos\n",
        "\n",
        "#sea a = 1, c = 3, b = 5\n",
        "a = trian(1,3.8,5,80000)\n",
        "plt.hist(a, bins=80, color='pink', edgecolor='black', density= True) # Generamos el histograma\n",
        "plt.show()\n",
        "print(\"La media es:,\", np.mean(a))\n",
        "print(\"La varianza es:,\", np.var(a))\n",
        "print(\"La desviación estándar es:,\", np.std(a))\n"
      ],
      "metadata": {
        "colab": {
          "base_uri": "https://localhost:8080/",
          "height": 485
        },
        "id": "0TJiOevYC4n5",
        "outputId": "f01de18a-d57f-46f0-b292-e0c68c926953"
      },
      "execution_count": null,
      "outputs": [
        {
          "output_type": "display_data",
          "data": {
            "text/plain": [
              "<Figure size 640x480 with 1 Axes>"
            ],
            "image/png": "[encoded data removed]"
          },
          "metadata": {}
        },
        {
          "output_type": "stream",
          "name": "stdout",
          "text": [
            "La media es:, 3.2644839486865123\n",
            "La varianza es:, 0.7072902109587235\n",
            "La desviación estándar es:, 0.841005476176418\n"
          ]
        }
      ]
    },
    {
      "cell_type": "markdown",
      "source": [
        "###**Exponencial**###\n",
        "\n",
        "**$$X \\sim \\text{Expo}(\\lambda)$$**\n",
        "\n",
        "---\n",
        "---\n",
        "\n",
        "**Parámetros:**\n",
        "- $\\lambda > 0$: tasa de ocurrencia del evento\n",
        "\n",
        "Densidad $$f(x) =\n",
        "\\begin{cases}\n",
        "\\lambda e^{-\\lambda x} & \\text{si } x \\geq 0 \\\\\n",
        "0 & \\text{si } x < 0\n",
        "\\end{cases}$$\n",
        "\n",
        "\n",
        "<div align=\"center\">\n",
        "<img src = \"https://upload.wikimedia.org/wikipedia/commons/thumb/e/ec/Exponential_pdf.svg/1280px-Exponential_pdf.svg.png\" width = \"250\"/>\n",
        "</div>\n",
        "\n",
        "Acumulada $$F(x) =\\begin{cases}\n",
        "1 - e^{-\\lambda x} & \\text{si } x \\geq 0 \\\\\n",
        "0 & \\text{si } x < 0\n",
        "\\end{cases}$$\n",
        "\n",
        "<div align=\"center\">\n",
        "<img src = \"https://upload.wikimedia.org/wikipedia/commons/thumb/b/ba/Exponential_cdf.svg/1280px-Exponential_cdf.svg.png\" width = \"250\"/>\n",
        "</div>\n",
        "\n",
        "- Media: ${\\mu = \\frac{1}{\\lambda}}$\n",
        "- Varianza: ${\\sigma^2 = \\frac{1}{\\lambda^2}}$\n",
        "- Desviación estándar: ${\\sigma = \\frac{1}{\\lambda}}$\n",
        "\n",
        "Pseudocódigo\n",
        "\n",
        "1. Generar $ U \\sim U(0,1) $\n",
        "2. Definir $x = -\\beta \\ln{U}$\n",
        "3. Returnar las $x's$\n",
        "\n",
        "Donde $\\beta = \\frac{1}{\\lambda}$"
      ],
      "metadata": {
        "id": "kJiQC-DGdq2e"
      }
    },
    {
      "cell_type": "code",
      "source": [
        "import math\n",
        "def exp(lam,n):\n",
        "  l = []\n",
        "  for _ in range(n):   #Generar lista vacía\n",
        "    R = np.random.uniform(0, 1)  #num.aleatorios de Distribución Uniforme\n",
        "    x = -math.log(R)/lam #Definimos fórmula\n",
        "    l.append(x)                  #Guardamos\n",
        "  return l\n",
        "\n",
        "q = exp(0.5,30000)\n",
        "plt.hist(q, bins=80, color='cyan', edgecolor='black', density=True)\n",
        "plt.show()\n",
        "print(\"La media es:,\", np.mean(q))\n",
        "print(\"La varianza es:,\", np.var(q))\n",
        "print(\"La desviación estándar es:,\", np.std(q))"
      ],
      "metadata": {
        "colab": {
          "base_uri": "https://localhost:8080/",
          "height": 482
        },
        "id": "HB4OV7Rpd_fC",
        "outputId": "85b99477-86af-46da-8fe0-ad7e8d5eefa6"
      },
      "execution_count": 6,
      "outputs": [
        {
          "output_type": "display_data",
          "data": {
            "text/plain": [
              "<Figure size 640x480 with 1 Axes>"
            ],
            "image/png": "[encoded data removed]"
          },
          "metadata": {}
        },
        {
          "output_type": "stream",
          "name": "stdout",
          "text": [
            "La media es:, 2.004203598826941\n",
            "La varianza es:, 4.0376195586632635\n",
            "La desviación estándar es:, 2.009382880056278\n"
          ]
        }
      ]
    },
    {
      "cell_type": "markdown",
      "source": [
        "###**m-Erlang**###\n",
        "$$X \\sim \\text{Erlang}(k, \\lambda)$$\n",
        "\n",
        "---\n",
        "---\n",
        "\n",
        "\n",
        "**Parámetros:**\n",
        "- $k \\in \\mathbb{N}$ : número de fases (entero positivo)  \n",
        "- $\\lambda > 0$ : tasa de ocurrencia\n",
        "\n",
        "Densidad $$f(x) =\n",
        "\\begin{cases}\n",
        "\\frac{\\lambda^k x^{k-1} e^{-\\lambda x}}{(k - 1)!} & \\text{si } x \\geq 0 \\\\\n",
        "0 & \\text{si } x < 0\n",
        "\\end{cases}$$\n",
        "\n",
        "\n",
        "<div align=\"center\">\n",
        "<img src = \"https://upload.wikimedia.org/wikipedia/commons/thumb/f/fc/Gamma_distribution_pdf.png/1280px-Gamma_distribution_pdf.png\" width = \"250\"/>\n",
        "</div>\n",
        "\n",
        "Acumulada $$F(x) = 1 - \\sum_{k=0}^{n-1} \\frac{(\\lambda x)^k e^{-\\lambda x}}{k!}$$\n",
        "\n",
        "<div align=\"center\">\n",
        "<img src = \"https://upload.wikimedia.org/wikipedia/commons/thumb/a/a9/Gamma_distribution_cdf.png/1280px-Gamma_distribution_cdf.png\" width = \"250\"/>\n",
        "</div>\n",
        "\n",
        "- Media: ${\\mu = \\frac{k}{\\lambda}}$\n",
        "- Varianza: ${\\sigma^2 = \\frac{k}{\\lambda^2}}$\n",
        "- Desviación estándar: ${\\sigma = \\sqrt{\\frac{k}{\\lambda^2}}}$\n",
        "\n",
        "Pseudocódigo\n",
        "\n",
        "1. Generar $ U_1, U_2, \\dots, U_m \\sim \\text{U}(0, 1) $\n",
        "2. Definir $X = -\\frac{\\beta}{k}\\cdot \\ln\\left( \\prod_{i=1}^{k} U_i \\right)$ = $-\\frac{\\beta}{m}\\cdot \\Sigma_{i =1}^{k}\\ln(U_i)$\n",
        "3. Returnar las $x's$\n",
        "\n",
        "\n",
        "\n",
        "**Nota:**  \n",
        "\n",
        "La distribución de Erlang es un caso particular de la distribución Gamma.\n",
        "\n",
        "Si $\\displaystyle X \\sim \\Gamma (\\alpha ,\\lambda )$ con\n",
        "$\\alpha =k \\in \\mathbb {N}$, entonces\n",
        "$ X\\sim \\operatorname {Erlang} (n,\\lambda )$.\n",
        "\n",
        "Si $\\displaystyle X\\sim \\operatorname {Erlang} (1,\\lambda )$ entonces\n",
        "$\\displaystyle X\\sim \\operatorname {Exponencial} (\\lambda )$.\n",
        "\n",
        "$\\beta = \\frac{1}{\\lambda}$  ← $\\beta$ representa el inverso de la tasa\n",
        "\n",
        "\n",
        "\n"
      ],
      "metadata": {
        "id": "o1lGRBRdeEMV"
      }
    },
    {
      "cell_type": "code",
      "source": [
        "import numpy as np\n",
        "import matplotlib.pyplot as plt\n",
        "import random as rd\n",
        "\n",
        "def erlang(lam, k, n):\n",
        "    l = []              #Lista vacía\n",
        "    for _ in range(n):\n",
        "        U = np.random.uniform(0, 1, k)  #Generar num aleatorios k-veces\n",
        "        X = - (1/ (k*lam)) * np.sum(np.log(U)) #Definimos la sumatoria de logaritmos, pues sabemos que el producto de logaritmos es igual a la suma de los logaritmos de cada un0o de ellos\n",
        "        l.append(X)    #Guardanos en la lista\n",
        "    return  l\n",
        "\n",
        "f = erlang(2,2,30000)\n",
        "plt.hist(f, bins=80, color =\"plum\", edgecolor =\"black\", density = True)\n",
        "plt.show()\n",
        "print(\"La media es:,\", np.mean(f))\n",
        "print(\"La varianza es:,\", np.var(f))\n",
        "print(\"La desviación estándar es:,\", np.std(f))"
      ],
      "metadata": {
        "colab": {
          "base_uri": "https://localhost:8080/",
          "height": 482
        },
        "id": "Tk2pTFXzeIV8",
        "outputId": "98c7c0fe-1996-4e8a-9948-0b09642ed211"
      },
      "execution_count": 13,
      "outputs": [
        {
          "output_type": "display_data",
          "data": {
            "text/plain": [
              "<Figure size 640x480 with 1 Axes>"
            ],
            "image/png": "[encoded data removed]"
          },
          "metadata": {}
        },
        {
          "output_type": "stream",
          "name": "stdout",
          "text": [
            "La media es:, 0.5013124089552542\n",
            "La varianza es:, 0.1256081001866326\n",
            "La desviación estándar es:, 0.3544123307485683\n"
          ]
        }
      ]
    },
    {
      "cell_type": "markdown",
      "source": [
        "###**Gamma**###\n",
        "\n",
        "$$X \\sim \\text{Gamma}(\\alpha, \\lambda)$$\n",
        "\n",
        "$\\mathcal{Ga(α, β)} \\qquad \\lambda, \\alpha >0 $\n",
        "\n",
        "Con $  k = \\alpha \\quad \\& \\quad λ=\\frac{1}{β}$\n",
        "\n",
        "Densidad\n",
        "\n",
        "$$f(x) = \\begin{cases}\n",
        "    \\frac{\\lambda^α x^{\\alpha-1} e^{-\\lambda x}}{\\Gamma(\\alpha)} & \\text{para } x > 0 \\\\\n",
        "    0 & \\text{otro caso}\n",
        "  \\end{cases}$$\n",
        "\n",
        "\n",
        "<div align=\"center\">\n",
        "<img src = \"https://upload.wikimedia.org/wikipedia/commons/thumb/f/fc/Gamma_distribution_pdf.png/1280px-Gamma_distribution_pdf.png\" width = \"250\"/>\n",
        "</div>\n",
        "\n",
        "Recordando $\\Gamma(k+1)=k!\\quad i.e \\quad \\Gamma(k)=(k-1)! $\n",
        "\n",
        "Acumulada $$F(x) = 1 - \\sum_{\\alpha=0}^{n-1} \\frac{(\\lambda x)^\\alpha e^{-\\lambda x}}{\\alpha!}$$\n",
        "\n",
        "\n",
        "\n",
        "<div align=\"center\">\n",
        "<img src = \"https://encrypted-tbn0.gstatic.com/images?q=tbn:ANd9GcRqRRdHUUQTR9k621teSk2-IQTj1ENJNJ3LsQ&s\" width = \"250\"/>\n",
        "</div>\n",
        "\n",
        "---\n",
        "---\n",
        "\n",
        "**Si** $\\alpha < 1$:\n",
        "\n",
        "- Generar $X' \\sim \\text{Gamma}(\\alpha + 1, \\beta)$\n",
        "- Generar $U \\sim \\mathcal{U}(0, 1)$\n",
        "- Definir $X \\leftarrow X' \\cdot U^{1/\\alpha}$\n",
        "- Retornar $X$\n",
        "\n",
        "---\n",
        "\n",
        "**Si** $\\alpha = 1$: *(Es la exponencial)*\n",
        "\n",
        "- Generar $U \\sim \\mathcal{U}(0, 1)$\n",
        "- Definir $X \\leftarrow -\\dfrac{1}{\\beta} \\ln(U)$\n",
        "- Retornar $X$\n",
        "\n",
        "---\n",
        "\n",
        "**Si** $\\alpha > 1$:\n",
        "\n",
        "- Definir $\\quad d \\leftarrow \\alpha - \\frac{1}{3}$, $\\qquad c \\leftarrow \\frac{1}{\\sqrt{9d}}$\n",
        "- Repetir:\n",
        "  - Generar $U_1, U_2 \\sim \\mathcal{U}(0, 1)$\n",
        "  - Calcular $Z \\leftarrow \\sqrt{-2 \\ln(U_1)} \\cdot \\cos(2\\pi U_2)$\n",
        "  - Calcular $V \\leftarrow (1 + cZ)^3$\n",
        "  - Generar $U \\sim \\mathcal{U}(0, 1)$\n",
        "  - Si $V > 0$ y $U < 1 - 0.0331 Z^4$, aceptar $$X \\leftarrow \\frac{dV}{\\beta}$$ y salir\n",
        "  - Si $\\ln(U) < 0.5 Z^2 + d(1 - V + \\ln V)$, aceptar $$X \\leftarrow \\frac{dV}{\\beta}$$ y salir\n",
        "- Hasta que se acepte $X$\n",
        "- Retornar $X$\n",
        "\n",
        "---\n",
        "\n",
        "- Media: ${\\mu = \\frac{\\alpha}{\\lambda}}$\n",
        "- Varianza: ${\\sigma^2 = \\frac{\\alpha}{\\lambda^2}}$\n",
        "- Desviación estándar: ${\\sigma = \\sqrt{\\frac{\\alpha}{\\lambda^2}}}$\n",
        "\n"
      ],
      "metadata": {
        "id": "wqExhKeyd7FC"
      }
    },
    {
      "cell_type": "code",
      "source": [
        "import random as rd\n",
        "import matplotlib.pyplot as plt\n",
        "import math\n",
        "\n",
        "def generar_gamma(alpha, lam, n):\n",
        "\n",
        "    muestras = []\n",
        "\n",
        "    # Caso alpha < 1: transformación con Gamma(alpha+1)\n",
        "    if alpha < 1:\n",
        "        for _ in range(n):\n",
        "            Y = generar_gamma(alpha + 1, lam, 1)[0]  # Num aleatorios con distribución Gamma con alpha+1\n",
        "            U = np.random.uniform(0, 1)              # Num aleatorios con distribución uniforme\n",
        "            X = Y * (U ** (1 / alpha))  # Escalamiento para alpha < 1\n",
        "            muestras.append(X)\n",
        "        return muestras\n",
        "\n",
        "    # Caso alpha = 1: distribución exponencial\n",
        "    if alpha == 1:\n",
        "        for _ in range(n):\n",
        "            U = np.random.uniform(0, 1)\n",
        "            X = -math.log(U) / lam\n",
        "            muestras.append(X)\n",
        "        return muestras\n",
        "\n",
        "    # Caso alpha > 1: método Marsaglia y Tsang\n",
        "    d = alpha - 1/3\n",
        "    c = 1 / math.sqrt(9 * d)\n",
        "\n",
        "    for _ in range(n):\n",
        "        while True:\n",
        "            # Generar normal estándar con Box-Muller\n",
        "            U1, U2 = np.random.uniform(0, 1), np.random.uniform(0, 1)\n",
        "            Z = math.sqrt(-2 * math.log(U1)) * math.cos(2 * math.pi * U2)\n",
        "\n",
        "            V = (1 + c * Z) ** 3\n",
        "            if V <= 0:\n",
        "                continue\n",
        "\n",
        "            U = np.random.uniform(0, 1)\n",
        "\n",
        "            # Condiciones de aceptación-rechazo\n",
        "            if U < 1 - 0.0331 * (Z ** 4):\n",
        "                X = d * V / lam\n",
        "                muestras.append(X)\n",
        "                break\n",
        "            if math.log(U) < 0.5 * Z**2 + d * (1 - V + math.log(V)):\n",
        "                X = d * V / lam\n",
        "                muestras.append(X)\n",
        "                break\n",
        "\n",
        "    return muestras\n",
        "\n",
        "c = generar_gamma(2.5,2,50000)\n",
        "plt.hist(c, bins=80, color='cadetblue', edgecolor='black', density=True)\n",
        "plt.show()\n",
        "print(\"La media es:,\", np.mean(c))\n",
        "print(\"La varianza es:,\", np.var(c))\n",
        "print(\"La desviación estándar es:,\", np.std(c))"
      ],
      "metadata": {
        "id": "ODVLi9u7eJ6t",
        "colab": {
          "base_uri": "https://localhost:8080/",
          "height": 485
        },
        "outputId": "c3a4b324-a496-42b9-b80d-de62dcc9ae82"
      },
      "execution_count": null,
      "outputs": [
        {
          "output_type": "display_data",
          "data": {
            "text/plain": [
              "<Figure size 640x480 with 1 Axes>"
            ],
            "image/png": "[encoded data removed]"
          },
          "metadata": {}
        },
        {
          "output_type": "stream",
          "name": "stdout",
          "text": [
            "La media es:, 1.250869330490221\n",
            "La varianza es:, 0.6204608112570386\n",
            "La desviación estándar es:, 0.7876933484910473\n"
          ]
        }
      ]
    },
    {
      "cell_type": "markdown",
      "source": [
        "###**Weibull**###\n",
        "\n",
        "**Nomenclatura estándar:**  \n",
        "$$X \\sim Weibull(α, β)$$\n",
        "\n",
        "---\n",
        "---\n",
        "\n",
        "**Parámetros:**  \n",
        "$\\alpha > 0$ (forma)  \n",
        "$\\beta > 0$ (escala)\n",
        "\n",
        "Densidad:\n",
        "$$  \n",
        "f(x) = \\frac{\\alpha}{\\beta} \\left( \\frac{x}{\\beta} \\right)^{\\alpha - 1} e^{ - (x / \\beta)^{\\alpha}}, \\quad x \\geq 0  \n",
        "$$\n",
        "\n",
        "<div align=\"center\">\n",
        "<img src = \"https://upload.wikimedia.org/wikipedia/commons/thumb/5/58/Weibull_PDF.svg/1024px-Weibull_PDF.svg.png\" width = \"250\"/>\n",
        "</div>\n",
        "\n",
        "Acumulada:\n",
        "$$  \n",
        "F(x) = 1 - e^{ - (x / \\beta)^{\\alpha}}, \\quad x \\geq 0  \n",
        "$$\n",
        "\n",
        "\n",
        "<div align=\"center\">\n",
        "<img src = \"https://upload.wikimedia.org/wikipedia/commons/thumb/7/7e/Weibull_CDF.svg/1024px-Weibull_CDF.svg.png\" width = \"250\"/>\n",
        "</div>\n",
        "\n",
        "- Media: ${\\mu = \\beta \\cdot \\Gamma\\left(1 + \\frac{1}{\\alpha} \\right) }$\n",
        "- Varianza: ${\\sigma^2 = \\beta^2 \\left[ \\Gamma\\left(1 + \\frac{2}{\\alpha} \\right) - \\left( \\Gamma\\left(1 + \\frac{1}{\\alpha} \\right) \\right)^2 \\right]  }$\n",
        "- Desviación estándar: ${\\sigma = \\sqrt{\\beta^2 \\left[ \\Gamma\\left(1 + \\frac{2}{\\alpha} \\right) - \\left( \\Gamma\\left(1 + \\frac{1}{\\alpha} \\right) \\right)^2 \\right]}}$\n",
        "\n",
        "\n",
        "Pseudocódigo:\n",
        "\n",
        "1. Generar $U \\sim U(0, 1)$  \n",
        "2. Definir:  \n",
        "   $$X = \\beta  \\left[ -\\ln(1 - U) \\right]^{1 / \\alpha}$$  \n",
        "3. Retornar $X$"
      ],
      "metadata": {
        "id": "CLaQXeKMF3ti"
      }
    },
    {
      "cell_type": "code",
      "source": [
        "\n",
        "def weibull(a,b,n):\n",
        "  l = []             #Generara lista vacia\n",
        "  for _ in range(n):\n",
        "    r = np.random.uniform(0,1)   # num.a con distribución uniforme\n",
        "    x = b*(-math.log(1-r))**(1/a) # Definimos fórmula\n",
        "    l.append(x)                   #Guardamos\n",
        "  return l\n",
        "\n",
        "h = weibull(5,1,90000)\n",
        "plt.hist(h, bins=80, color='lavender', edgecolor='black', density=True)\n",
        "plt.show()\n",
        "print(\"La media es:,\", np.mean(h))\n",
        "print(\"La varianza es:,\", np.var(h))\n",
        "print(\"La desviación estándar es:,\", np.std(h))"
      ],
      "metadata": {
        "id": "oPeCKNjmF6ih",
        "colab": {
          "base_uri": "https://localhost:8080/",
          "height": 485
        },
        "outputId": "2358bd2f-4cea-420f-e09c-f09e541145fa"
      },
      "execution_count": 14,
      "outputs": [
        {
          "output_type": "display_data",
          "data": {
            "text/plain": [
              "<Figure size 640x480 with 1 Axes>"
            ],
            "image/png": "[encoded data removed]"
          },
          "metadata": {}
        },
        {
          "output_type": "stream",
          "name": "stdout",
          "text": [
            "La media es:, 0.918457344045036\n",
            "La varianza es:, 0.04410714798994468\n",
            "La desviación estándar es:, 0.21001701833409758\n"
          ]
        }
      ]
    },
    {
      "cell_type": "markdown",
      "source": [
        "###**Normal**##\n",
        "\n",
        "**Nomenclatura estándar:**  \n",
        "$$X \\sim N(μ, σ²)$$\n",
        "\n",
        "---\n",
        "---\n",
        "\n",
        "Densidad:\n",
        "$$  \n",
        "f(x) = \\frac{1}{\\sigma\\sqrt{2\\pi}} e^{ -\\frac{(x - \\mu)^2}{2\\sigma^2}}  \n",
        "$$\n",
        "\n",
        "<div align=\"center\">\n",
        "<img src = \"https://upload.wikimedia.org/wikipedia/commons/thumb/1/1b/Normal_distribution_pdf.png/500px-Normal_distribution_pdf.png\" width = \"250\"/>\n",
        "</div>\n",
        "\n",
        "Acumulada:\n",
        "$$  \n",
        "F(x) = \\frac{1}{2} \\left[ 1 + \\operatorname{erf} \\left( \\frac{x - \\mu}{\\sigma\\sqrt{2}} \\right) \\right]  \n",
        "$$\n",
        "\n",
        "<div align=\"center\">\n",
        "<img src = \"https://upload.wikimedia.org/wikipedia/commons/thumb/1/19/Normal_distribution_cdf.png/500px-Normal_distribution_cdf.png\" width = \"250\"/>\n",
        "</div>\n",
        "\n",
        "- Media ${=\\mu }$\n",
        "- Varianza ${=\\sigma^2}$\n",
        "- Desviación estándar ${=\\sigma }$\n",
        "\n",
        "Pseudocódigo:\n",
        "1. Generar dos variables aleatorias independientes: $U, V \\sim \\text{Uniform}(0, 1)$  \n",
        "2. Calcular:  \n",
        "   $$Z_0 = \\sqrt{-2 \\ln(U)} \\cdot \\cos(2\\pi V)$$  \n",
        "   $$Z_1 = \\sqrt{-2 \\ln(U)} \\cdot \\sin(2\\pi V)$$  \n",
        "3. Transformar:  \n",
        "   $$X = \\mu + \\sigma \\cdot Z_0$$  \n",
        "   (opcionalmente usar $Z_1$ como segunda muestra)  \n",
        "4. Retornar $X$"
      ],
      "metadata": {
        "id": "b4GenBd-1Mzp"
      }
    },
    {
      "cell_type": "code",
      "source": [
        "#Metódo Box-Muller\n",
        "def normal(mu,sigma,n):\n",
        "  l = []                # #Generara lista vacia\n",
        "  for _ in range(n):\n",
        "      u_1 = rd.random() # Generar 2 num. aleatorios\n",
        "      u_2 = rd.random()\n",
        "      R = math.sqrt(-2*math.log(u_1))   # Definir primer factor de la multiplicación\n",
        "      Teta = 2*math.pi*u_2              # Definir segundo  factor de la multiplicación\n",
        "      Z0 = R*math.cos(Teta)             # Hacer los z's\n",
        "      Z1 = R*math.sin(Teta)\n",
        "    # x1 = mu + sigma*Z0\n",
        "    # x2 = mu + sigma*Z1\n",
        "      l.append(Z0)\n",
        "      l.append(Z1)                      # Guardamos ambas z's en nuestra lista\n",
        "  return l\n",
        "\n",
        "Z0Z1 = normal(0,1,80000)\n",
        "plt.hist(Z0Z1, bins=80, color='lightblue', edgecolor='black', density=True)\n",
        "plt.show()\n",
        "print(\"La media es:,\", np.mean(Z0Z1 ))\n",
        "print(\"La varianza es:,\", np.var(Z0Z1 ))\n",
        "print(\"La desviación estándar es:,\", np.std(Z0Z1 ))\n"
      ],
      "metadata": {
        "colab": {
          "base_uri": "https://localhost:8080/",
          "height": 485
        },
        "id": "Do-SvMRV1MkA",
        "outputId": "10da7a2e-5c13-4f14-ea1d-206d7eeeff3b"
      },
      "execution_count": null,
      "outputs": [
        {
          "output_type": "display_data",
          "data": {
            "text/plain": [
              "<Figure size 640x480 with 1 Axes>"
            ],
            "image/png": "[encoded data removed]"
          },
          "metadata": {}
        },
        {
          "output_type": "stream",
          "name": "stdout",
          "text": [
            "La media es:, 0.0017762437795623934\n",
            "La varianza es:, 0.9979927234086364\n",
            "La desviación estándar es:, 0.9989958575532916\n"
          ]
        }
      ]
    },
    {
      "cell_type": "markdown",
      "source": [
        "###**Log-normal**###\n",
        "\n",
        "$$\n",
        "\\ln(X) \\sim \\mathcal{N}(\\mu, \\sigma^2)\n",
        "$$\n",
        "$$\n",
        "X \\sim \\text{LN}(\\mu, \\sigma^2)\n",
        "$$\n",
        "\n",
        "---\n",
        "---\n",
        "\n",
        "Densidad:\n",
        "\n",
        "$$\n",
        "f(x) = \\frac{1}{x \\sigma \\sqrt{2\\pi}} e^{-\\frac{(\\ln x - \\mu)^2}{2\\sigma^2}}, \\quad x > 0\n",
        "$$\n",
        "\n",
        "<div align=\"center\">\n",
        "<img src = \"https://upload.wikimedia.org/wikipedia/commons/thumb/4/4f/Densidad-lognormal.jpg/375px-Densidad-lognormal.jpg\" width = \"250\"/>\n",
        "</div>\n",
        "\n",
        "Acumulada:\n",
        "\n",
        "$$\n",
        "F(x) = \\Phi\\left( \\frac{\\ln x - \\mu}{\\sigma} \\right)\n",
        "$$\n",
        "\n",
        "<div align=\"center\">\n",
        "<img src = \"https://upload.wikimedia.org/wikipedia/commons/thumb/5/5a/Acumulada-lognormal.jpg/375px-Acumulada-lognormal.jpg\" width = \"250\"/>\n",
        "</div>\n",
        "\n",
        "-  ${\\mu' = e^{\\mu + \\frac{\\sigma^2}{2}}}$\n",
        "-  ${\\sigma'^2 = \\left(e^{\\sigma^2} - 1\\right) e^{2\\mu + \\sigma^2}}$\n",
        "\n",
        "$\\therefore$\n",
        "\n",
        "- Media: ${\\mu = \\ln\\left(\\frac{\\mu'^2}{\\sqrt{\\mu'^2 + \\sigma'^2}}\\right)}$\n",
        "- Varianza: ${\\sigma^2 = \\ln\\left(1 + \\frac{\\sigma'^2}{\\mu'^2}\\right)}$\n",
        "- Desviación estándar: ${\\sigma = \\sqrt{\\ln\\left(1 + \\frac{\\sigma'^2}{\\mu'^2}\\right)}}$\n",
        "\n",
        "Pseodocódigo:\n",
        "\n",
        "$\\text{Entrada: } \\mu, \\sigma$\n",
        "\n",
        "1. Generar $ Z \\sim \\mathcal{N}(0,1)$\n",
        "2. Definir $X = e^{\\mu + \\sigma \\cdot Z}$\n",
        "3. Returnar $X$\n"
      ],
      "metadata": {
        "id": "IsNAhxBj_PxZ"
      }
    },
    {
      "cell_type": "code",
      "source": [
        "def log_norm(mu, sigma,n):\n",
        "  l = []                        # Lista vacía\n",
        "  r = np.random.normal(0, 1, n) # num. aleatorios\n",
        "  x = np.exp(mu + sigma * r)    # Definir x\n",
        "  l.append(x)                   # Guardarlas en la lista\n",
        "  return l\n",
        "\n",
        "# Generar histograma\n",
        "s = log_norm(0, 0.25, 80000)\n",
        "plt.hist(s, bins=80, color='gold', edgecolor='black', density=True)\n",
        "plt.show()\n",
        "print(\"La media es:,\", np.mean(s))\n",
        "print(\"La varianza es:,\", np.var(s))\n",
        "print(\"La desviación estándar es:,\", np.std(s))"
      ],
      "metadata": {
        "colab": {
          "base_uri": "https://localhost:8080/",
          "height": 485
        },
        "id": "xaZ3gCmVC2_p",
        "outputId": "5f40bc4b-14e3-4f29-f011-66b09bff8838"
      },
      "execution_count": null,
      "outputs": [
        {
          "output_type": "display_data",
          "data": {
            "text/plain": [
              "<Figure size 640x480 with 1 Axes>"
            ],
            "image/png": "[encoded data removed]"
          },
          "metadata": {}
        },
        {
          "output_type": "stream",
          "name": "stdout",
          "text": [
            "La media es:, 1.0313672316245954\n",
            "La varianza es:, 0.06912923102908504\n",
            "La desviación estándar es:, 0.2629243827207455\n"
          ]
        }
      ]
    },
    {
      "cell_type": "markdown",
      "source": [
        "###**Beta**###\n",
        "\n",
        "**$$\n",
        "X \\sim \\text{Beta}(\\alpha, \\beta)$$**\n",
        "\n",
        "---\n",
        "---\n",
        "\n",
        "**Parámetros:**\n",
        "- $\\lambda > 0$: tasa de ocurrencia del evento\n",
        "\n",
        "Densidad $$f(x) =\n",
        "\\begin{cases}\n",
        " \\frac{x^{\\alpha-1}(1-x)^{\\beta -1}}{B(\\alpha, \\beta)} & \\text{si } 0 \\leq x \\leq 1 \\\\\n",
        "0 & \\text{otro caso}\n",
        "\\end{cases}$$\n",
        "\n",
        "\n",
        "<div align=\"center\">\n",
        "<img src = \"https://upload.wikimedia.org/wikipedia/commons/thumb/9/9a/Beta_distribution_pdf.png/500px-Beta_distribution_pdf.png\" width = \"250\"/>\n",
        "</div>\n",
        "\n",
        "$$\\\n",
        "B(\\alpha, \\beta) = \\int_0^1 x^{\\alpha - 1} (1 - x)^{\\beta - 1} dx = \\frac{\\Gamma(\\alpha)\\Gamma(\\beta)}{\\Gamma(\\alpha + \\beta)} $$\n",
        "\n",
        "No tiene una forma cerrada simple, pero se puede calcular como:\n",
        "\n",
        "$$\n",
        "F(x) = I_x(\\alpha, \\beta) = \\frac{B(x; \\alpha, \\beta)}{B(\\alpha, \\beta)}\n",
        "$$\n",
        "\n",
        "donde $I_x(\\alpha, \\beta)$ es la función beta incompleta regularizada.\n",
        "\n",
        "\n",
        "<div align=\"center\">\n",
        "<img src = \"https://upload.wikimedia.org/wikipedia/commons/thumb/7/76/Beta_distribution_cdf.png/500px-Beta_distribution_cdf.png\" width = \"250\"/>\n",
        "</div>\n",
        "\n",
        "- Media: ${\\mu = \\frac{\\alpha}{\\alpha + \\beta}}$\n",
        "- Varianza: ${\\sigma^2 = \\frac{\\alpha\\beta}{(\\alpha + \\beta + 1)(\\alpha + \\beta)^2}}$\n",
        "- Desviación estándar: ${\\sigma = \\frac{1}{\\lambda}}$\n",
        "\n",
        "Pseudocódigo\n",
        "\n",
        "1. Generar $ U_1 \\sim G(\\alpha_1,1), \\quad U_2\\sim G(\\alpha_2,2)$\n",
        "2. Definir $x = \\frac{U_1}{U_1 + U_2}$\n",
        "3. Returnar las $x's$"
      ],
      "metadata": {
        "id": "Y2IL98XNEuN9"
      }
    },
    {
      "cell_type": "code",
      "source": [
        "def Beta(a,b,n):\n",
        "    u1 = np.random.gamma(a,1,n)       # Generar dos num. aleatorios con distribución gamma n-veces\n",
        "    u2 = np.random.gamma(b,1,n)\n",
        "    x = u1/(u1+u2)                    # Dividir el primero entre la suma de los dos\n",
        "\n",
        "    return x\n",
        "\n",
        "l = Beta(2,2,10000)\n",
        "plt.hist(l, bins=80, color='skyblue', edgecolor='black', density=True)\n",
        "plt.show()\n",
        "print(\"La media es:,\", np.mean(l))\n",
        "print(\"La varianza es:,\", np.var(l))\n",
        "print(\"La desviación estándar es:,\", np.std(l))\n"
      ],
      "metadata": {
        "id": "1NjNA29ZEtzE",
        "colab": {
          "base_uri": "https://localhost:8080/",
          "height": 482
        },
        "outputId": "60180bd8-4db7-4877-c1d0-90c8a73c9b2a"
      },
      "execution_count": 19,
      "outputs": [
        {
          "output_type": "display_data",
          "data": {
            "text/plain": [
              "<Figure size 640x480 with 1 Axes>"
            ],
            "image/png": "[encoded data removed]"
          },
          "metadata": {}
        },
        {
          "output_type": "stream",
          "name": "stdout",
          "text": [
            "La media es:, 0.5027766617122503\n",
            "La varianza es:, 0.04921169219260295\n",
            "La desviación estándar es:, 0.2218370848000914\n"
          ]
        }
      ]
    },
    {
      "cell_type": "markdown",
      "source": [
        "###**Pearson V**###\n",
        "\n",
        "La variable aleatoria $X$ tiene distribución Pearson tipo V si:\n",
        "\n",
        "$$\n",
        "X \\sim \\text{PT5}(\\alpha, \\beta)\n",
        "$$\n",
        "\n",
        "---\n",
        "---\n",
        "\n",
        "\n",
        "Densidad\n",
        "\n",
        " $$\n",
        "f(x) = \\frac{\\beta^\\alpha}{\\Gamma(\\alpha)} x^{-\\alpha - 1} e^{-\\beta / x}, \\quad x > 0\n",
        "$$\n",
        "\n",
        "\n",
        "<div align=\"center\">\n",
        "<img src = \"https://wpd.ugr.es/~bioestad/wp-content/uploads/variasChi1.jpg\" width = \"250\"/>\n",
        "</div>\n",
        "\n",
        "Acumulada\n",
        "$$ F(x) = 1 - F_G(\\frac{1}{x}), \\quad x > 0\n",
        "$$\n",
        "\n",
        "\n",
        "\n",
        "- Media (existe si $\\alpha > 1$): ${\\mu = \\frac{\\beta}{\\alpha - 1}}$\n",
        "- Varianza (existe si $\\alpha > 2$): ${\\sigma^2 = \\frac{\\beta^2}{(\\alpha - 1)^2 (\\alpha - 2)}}$\n",
        "- Desviación estándar: ${\\sigma = \\frac{\\beta}{\\alpha - 1} \\sqrt{\\frac{1}{\\alpha - 2}}}$\n",
        "\n",
        "Pseudocódigo\n",
        "\n",
        "1. Generar inverso de Gamma $ U_1 \\sim G(\\alpha_1,\\frac{1}{\\beta})$\n",
        "2. Definir $x = \\frac{1}{G}$\n",
        "3. Returnar las $x's$\n",
        "\n"
      ],
      "metadata": {
        "id": "UbDK1aVWYTYC"
      }
    },
    {
      "cell_type": "code",
      "source": [
        "import numpy as np\n",
        "import matplotlib.pyplot as plt\n",
        "\n",
        "def pear5(alpha,beta,n):\n",
        "    g = np.random.gamma(alpha, 1 / beta, n)   # Generar num. aleatorios con distr. gamma n-veces\n",
        "    x = 1 / g                                 # Definir x\n",
        "    return x\n",
        "\n",
        "# Simulación\n",
        "ñ_5 = pear5(3, 2, 10000)\n",
        "plt.hist(ñ_5, bins=80, color='magenta', alpha = 0.5, edgecolor='black', density=True, range=(0,5))\n",
        "plt.show()\n",
        "print(\"La media es:,\", np.mean(ñ_5))\n",
        "print(\"La varianza es:,\", np.var(ñ_5))\n",
        "print(\"La desviación estándar es:,\", np.std(ñ_5))"
      ],
      "metadata": {
        "colab": {
          "base_uri": "https://localhost:8080/",
          "height": 482
        },
        "id": "Erzbb_Cnimas",
        "outputId": "7f0c75da-1750-44f8-9c82-511f1e2f2f96"
      },
      "execution_count": 30,
      "outputs": [
        {
          "output_type": "display_data",
          "data": {
            "text/plain": [
              "<Figure size 640x480 with 1 Axes>"
            ],
            "image/png": "[encoded data removed]"
          },
          "metadata": {}
        },
        {
          "output_type": "stream",
          "name": "stdout",
          "text": [
            "La media es:, 1.0088929657420296\n",
            "La varianza es:, 1.0258703816772332\n",
            "La desviación estándar es:, 1.0128525962237709\n"
          ]
        }
      ]
    },
    {
      "cell_type": "markdown",
      "source": [
        "###**Pearson VI**###\n",
        "\n",
        "La variable aleatoria $X$ tiene distribución Pearson tipo VI si:\n",
        "\n",
        "$$\n",
        "X \\sim \\text{PT6}(a, b, \\beta)\n",
        "$$\n",
        "\n",
        "con $\\alpha_1 > 0$, $\\alpha_2 > 0$, $\\beta > 0$.\n",
        "\n",
        "---\n",
        "---\n",
        "\n",
        "\n",
        "Densidad\n",
        "\n",
        " $$\n",
        "f(x) =  \\frac{x^{\\alpha_1 - 1}}{\\beta^{\\alpha_1} B(\\alpha_1, \\alpha_2)} \\left(1 + \\frac{x}{\\beta}\\right)^{-(\\alpha_1 + \\alpha_2)}, \\quad x > 0, \\quad x > 0\n",
        "$$\n",
        "\n",
        "\n",
        "<div align=\"center\">\n",
        "<img src = \"https://upload.wikimedia.org/wikipedia/commons/thumb/2/21/Chi-square_distributionPDF.png/960px-Chi-square_distributionPDF.png\" width = \"250\"/>\n",
        "</div>\n",
        "\n",
        "Acumulada\n",
        "$$ F(x) = 1 - F_G(\\frac{1}{x}), \\quad x > 0\n",
        "$$\n",
        "\n",
        "\n",
        "- Media (existe si $b > 1$): ${\\mu = \\frac{\\alpha_1 \\beta}{\\alpha_2 - 1}}$\n",
        "- Varianza (existe si $\\alpha > 2$): ${\\sigma^2 = \\frac{\\alpha_1 \\beta^2 (\\alpha_1 + \\alpha_2 - 1)}{(\\alpha_2 - 2)(\\alpha_2 - 1)^2}}$\n",
        "- Desviación estándar: ${\\sigma = \\sqrt{\\frac{\\alpha_1 \\beta^2 (\\alpha_1 + \\alpha_2 - 1)}{(\\alpha_2 - 2)(\\alpha_2 - 1)^2}}}$\n",
        "\n",
        "Pseudocódigo\n",
        "\n",
        "1. Generar  $ U_1 \\sim G(\\alpha_1,1), \\quad U_2 \\sim G(\\alpha_2,1)$\n",
        "2. Definir $x = \\beta \\frac{U_1}{U_2}$\n",
        "3. Returnar las $x's$\n",
        "\n",
        "\n"
      ],
      "metadata": {
        "id": "rNFcwtTejh2U"
      }
    },
    {
      "cell_type": "code",
      "source": [
        "def pear6(alpha_1, alpha_2, beta, n):\n",
        "    u1 = np.random.gamma(alpha_1, 1.0, n)  #Generar dos num. aleatorios con distribución gamma n-veces\n",
        "    u2 = np.random.gamma(alpha_2, 1.0, n)\n",
        "\n",
        "    x = beta * (u1 / u2)    # Definir x\n",
        "    return x\n",
        "\n",
        "# Simulación\n",
        "ñ_6 = pear6(2, 4,1, 20000)\n",
        "plt.hist(ñ_6, bins=80, color='aquamarine', edgecolor='black', density=True, range=(0,5))\n",
        "plt.show()\n",
        "print(\"La media es:,\", np.mean(ñ_6))\n",
        "print(\"La varianza es:,\", np.var(ñ_6))\n",
        "print(\"La desviación estándar es:,\", np.std(ñ_6))\n"
      ],
      "metadata": {
        "colab": {
          "base_uri": "https://localhost:8080/",
          "height": 482
        },
        "id": "LQDE_SGwmFM4",
        "outputId": "b99f9bb5-c1dd-4b16-cfa0-3fc2c4455635"
      },
      "execution_count": 22,
      "outputs": [
        {
          "output_type": "display_data",
          "data": {
            "text/plain": [
              "<Figure size 640x480 with 1 Axes>"
            ],
            "image/png": "[encoded data removed]"
          },
          "metadata": {}
        },
        {
          "output_type": "stream",
          "name": "stdout",
          "text": [
            "La media es:, 0.6604011829657739\n",
            "La varianza es:, 0.49412688679023103\n",
            "La desviación estándar es:, 0.7029415955755008\n"
          ]
        }
      ]
    },
    {
      "cell_type": "markdown",
      "source": [
        "###**Log-logística**###\n",
        "\n",
        "**$$\n",
        "X \\sim \\text{LL}(\\alpha, \\beta)\n",
        "$$**\n",
        "\n",
        "donde $\\alpha > 0$ es un parámetro de forma, y $\\beta > 0$ es un parámetro de escala.\n",
        "\n",
        "---\n",
        "---\n",
        "\n",
        "\n",
        "Densidad $$f(x)  = \\begin{cases}\n",
        "    \\frac{\\alpha(\\frac{x}{β})^{\\alpha-1}}{β[1+(\\frac{x}{β})^\\alpha]^2} & \\text{para } x > 0 \\\\\n",
        "    0 & \\text{otro caso}\n",
        "  \\end{cases}$$\n",
        "\n",
        "\n",
        "<div align=\"center\">\n",
        "<img src = \"https://upload.wikimedia.org/wikipedia/commons/thumb/e/e1/Loglogisticpdf.svg/1200px-Loglogisticpdf.svg.png\" width = \"250\"/>\n",
        "</div>\n",
        "\n",
        "Acumulada\n",
        "\n",
        "\n",
        "$$F(x) = \\begin{cases}\n",
        "    \\frac{1}{1 + (\\frac{\\beta}{x})^{\\alpha}} & \\text{para } x > 0 \\\\\n",
        "    0 & \\text{otro caso}\n",
        "  \\end{cases}\n",
        "$$\n",
        "\n",
        "\n",
        "\n",
        "\n",
        "<div align=\"center\">\n",
        "<img src = \"https://upload.wikimedia.org/wikipedia/commons/thumb/7/75/Loglogisticcdf.svg/250px-Loglogisticcdf.svg.png\" width = \"250\"/>\n",
        "</div>\n",
        "\n",
        "- Media (existe si $\\alpha > 1$): ${\\mu =\\beta \\theta \\csc(\\theta),}\\quad \\text{donde} \\quad \\theta=\\frac{π}{α}$\n",
        "- Varianza(existe si $\\alpha > 2$): ${\\sigma^2 = \\beta^2 \\theta [2\\csc(2\\theta) - \\theta(\\csc (\\theta))^2]}$\n",
        "- Desviación estándar: ${\\sigma = \\sqrt{\\sigma}}$\n",
        "\n",
        "Pseudocódigo\n",
        "\n",
        "1. Generar $ U \\sim U(0,1)$\n",
        "2. Definir $x = \\beta \\left( \\frac{U}{1 - U} \\right)^{1/\\alpha}$\n",
        "3. Returnar las $x's$\n"
      ],
      "metadata": {
        "id": "B2QR0myAomAr"
      }
    },
    {
      "cell_type": "code",
      "source": [
        "def log_logis(alfa,beta,n):\n",
        "  l =[]                   #Lista vacía\n",
        "  for i in range(n):\n",
        "    U = np.random.uniform()  # Generar num. aleatorios\n",
        "    x = beta*((U/(1-U))**(1/alfa))  # Definir x\n",
        "    l.append(x)               # Guardarlas en la lista\n",
        "  return l\n",
        "\n",
        "f= log_logis(3,4,80000)\n",
        "plt.hist(f, bins=80, color='cadetblue', edgecolor='black', density=True, range=(0,10))\n",
        "plt.show()\n",
        "print(\"La media es:,\", np.mean(f))\n",
        "print(\"La varianza es:,\", np.var(f))\n",
        "print(\"La desviación estándar es:,\", np.std(f))"
      ],
      "metadata": {
        "id": "nEUEIkyhomN9",
        "colab": {
          "base_uri": "https://localhost:8080/",
          "height": 482
        },
        "outputId": "14e827d3-0a5a-47b8-fa67-226719b2cf87"
      },
      "execution_count": 38,
      "outputs": [
        {
          "output_type": "display_data",
          "data": {
            "text/plain": [
              "<Figure size 640x480 with 1 Axes>"
            ],
            "image/png": "[encoded data removed]"
          },
          "metadata": {}
        },
        {
          "output_type": "stream",
          "name": "stdout",
          "text": [
            "La media es:, 4.825410022810508\n",
            "La varianza es:, 13.74733521463495\n",
            "La desviación estándar es:, 3.707739906551557\n"
          ]
        }
      ]
    },
    {
      "cell_type": "markdown",
      "source": [
        "###**Johnson SB**###\n",
        "\n",
        "$$\n",
        "X \\sim \\text{JSB}(\\alpha_1,\\alpha_2,a,b)\n",
        "$$\n",
        "\n",
        "donde:\n",
        "- $\\alpha_1 \\in \\mathbb{R}$: parámetro de localización (shape),\n",
        "- $\\alpha_2 > 0$: parámetro de escala (shape),\n",
        "- $a \\in \\mathbb{R}$: parámetro de desplazamiento,\n",
        "- $b > 0$: parámetro de escala.\n",
        "\n",
        "---\n",
        "---\n",
        "\n",
        "\n",
        "Densidad $$\n",
        " f(x) = \\begin{cases}\n",
        "    \\frac{\\alpha_2(b-a)}{(x-a)(b-x)\\sqrt{2\\pi}}e^{-\\frac{1}{2}[\\alpha_1+\\alpha_2ln(\\frac{x-a}{b-x})]} & \\text{si } a<x<b \\\\\n",
        "    0 & \\text{otro caso}\n",
        "  \\end{cases}\n",
        "$$\n",
        "\n",
        "\n",
        "<div align=\"center\">\n",
        "<img src = \"https://encrypted-tbn0.gstatic.com/images?q=tbn:ANd9GcSBx3bcKgLI4Xazu7BkzUEmSRIE6sjcDo_6H1J9zVVxILhwZo89\" width = \"250\"/>\n",
        "</div>\n",
        "\n",
        "Acumulada\n",
        "\n",
        "\n",
        "$$F(x) = \\begin{cases}\n",
        "    Φ [\\alpha_1+\\alpha_2ln(\\frac{x-a}{b-x})] & \\text{para } x > 0 \\\\\n",
        "    0 & \\text{otro caso}\n",
        "  \\end{cases}\n",
        "$$\n",
        "\n",
        "<div align=\"center\">\n",
        "<img src = \"https://upload.wikimedia.org/wikipedia/commons/thumb/6/6d/JohnsonSU_CDF.png/330px-JohnsonSU_CDF.png\" width = \"250\"/>\n",
        "</div>\n",
        "\n",
        "donde $𝚽(x)$ es la distribución Normal con $\\mu=0 \\quad \\sigma^2=1$\n",
        "\n",
        "\n",
        "Pseudocódigo\n",
        "\n",
        "$$X\\sim JSB(\\alpha_1,\\alpha_2,a,b) \\iff Z=\\alpha_2+\\alpha_2 ln[\\frac{X-a}{b-X}] \\sim N(0,1)$$\n",
        "1. Generar $ Z \\sim N(0,1)$\n",
        "2. Hacer $Y=e^{\\frac{Z-\\alpha_1}{α_2}}$\n",
        "3. Definir $x = \\frac{(a+bY)}{(Y+1)}$\n",
        "4. Returnar las $x's$\n"
      ],
      "metadata": {
        "id": "bkAtt8Y63o6q"
      }
    },
    {
      "cell_type": "code",
      "source": [
        "import numpy as np\n",
        "import matplotlib.pyplot as plt\n",
        "\n",
        "def john(alpha1,alpha2,a,b,n):\n",
        "  l = []                   #Lista vacía\n",
        "  for i in range(n):\n",
        "    Z=np.random.normal(0,1)  #num. aleatorios\n",
        "    Y=np.exp((Z-alpha1)/alpha2)   #Definir mis dos variables\n",
        "    V = (a+b*Y)/(Y+1)           # Definir la variable a returnar\n",
        "    l.append(V)      #Guardardarla en la lista\n",
        "  return l\n",
        "\n",
        "JB= john(0,1,0,1,10000)\n",
        "\n",
        "plt.hist(JB, bins=80, color=\"salmon\", edgecolor =\"black\", density=True, range=(0,1))\n",
        "plt.show()\n",
        "print(\"La media es:,\", np.mean(JB))\n",
        "print(\"La varianza es:,\", np.var(JB))\n",
        "print(\"La desviación estándar es:,\", np.std(JB))"
      ],
      "metadata": {
        "colab": {
          "base_uri": "https://localhost:8080/",
          "height": 482
        },
        "id": "mrbl3xTJ3pQA",
        "outputId": "b3332219-d86f-480c-a44f-24e906cc5fb7"
      },
      "execution_count": 36,
      "outputs": [
        {
          "output_type": "display_data",
          "data": {
            "text/plain": [
              "<Figure size 640x480 with 1 Axes>"
            ],
            "image/png": "[encoded data removed]"
          },
          "metadata": {}
        },
        {
          "output_type": "stream",
          "name": "stdout",
          "text": [
            "La media es:, 0.4979058282761317\n",
            "La varianza es:, 0.043715086465461496\n",
            "La desviación estándar es:, 0.2090815306655791\n"
          ]
        }
      ]
    },
    {
      "cell_type": "markdown",
      "source": [
        "###**Johnson SU**###\n",
        "\n",
        "$$\n",
        "X \\sim \\text{JSU}(\\alpha_1,\\alpha_2,\\gamma,\\beta)\n",
        "$$\n",
        "\n",
        "donde:\n",
        "- $\\alpha_1 \\in \\mathbb{R}$: parámetro de localización (shape),\n",
        "- $\\alpha_2 > 0$: parámetro de escala (shape),\n",
        "- $a \\in \\mathbb{R}$: parámetro de desplazamiento,\n",
        "- $b > 0$: parámetro de escala.\n",
        "\n",
        "---\n",
        "---\n",
        "\n",
        "Densidad\n",
        " $$f(x) = \\frac{\\alpha_2}{\\sqrt{2\\pi}(x-γ)^2+β^2}e^{-\\frac{1}{2}\\Big[\\alpha_1+\\alpha_2ln\\Big[\\frac{x-γ}{β}+\\sqrt{\\Big(\\frac{x-γ}{β})^2+1}\\Big)\\Big]\\Big]^2} \\text{si } -\\infty<x<\\infty $$\n",
        "\n",
        "\n",
        "<div align=\"center\">\n",
        "<img src = \"https://upload.wikimedia.org/wikipedia/commons/thumb/1/10/JohnsonSU.png/330px-JohnsonSU.png\" width = \"250\"/>\n",
        "</div>\n",
        "\n",
        "Acumulada\n",
        "\n",
        "$$ F(x) = \\Phi \\left\\{ \\alpha_1 + \\alpha_2 \\ln \\left[ \\frac{x - \\gamma}{\\beta} + \\sqrt{ \\left( \\frac{x - \\gamma}{\\beta} \\right)^2 + 1 } \\right] \\right\\}, \\quad \\text{para } -\\infty < x < \\infty $$\n",
        "\n",
        "<div align=\"center\">\n",
        "<img src = \"https://upload.wikimedia.org/wikipedia/commons/thumb/6/6d/JohnsonSU_CDF.png/330px-JohnsonSU_CDF.png\" width = \"250\"/>\n",
        "</div>\n",
        "\n",
        "- Media:$\\mu = \\gamma-\\beta e^{\\frac{1}{2\\alpha_2^2}}senh\\Big(\\frac{\\alpha_1}{α_2}\\Big)$\n",
        "Pseudocódigo\n",
        "\n",
        "$$X\\sim JSB(\\alpha_1,\\alpha_2,a,b) \\iff Z=\\alpha_2+\\alpha_2 ln[\\frac{X-a}{b-X}] \\sim N(0,1)$$\n",
        "1. Generar $ Z \\sim N(0,1)$\n",
        "2. Hacer $Y=e^{\\frac{Z-\\alpha_1}{α_2}}$\n",
        "3. Definir $x = γ+\\frac{β}{2}\\Big(Y-\\frac{1}{Y}\\Big)$\n",
        "4. Returnar las $x's$\n"
      ],
      "metadata": {
        "id": "WpmAHk67HZPk"
      }
    },
    {
      "cell_type": "code",
      "source": [
        "import numpy as np\n",
        "import matplotlib.pyplot as plt\n",
        "\n",
        "def Ju(al1,al2,ga,be,n):\n",
        "  l=[]                     #Lista vacía\n",
        "  for i in range(n):\n",
        "    Z=np.random.normal(0,1) # Generar num. alatorios\n",
        "    Y=np.exp((Z-al1)/al2)   # Definir Y\n",
        "    x=ga+(be/2)*(Y-1/Y)     # Definir x, que depende de Y\n",
        "    l.append(x)             # Gusrdar las x's\n",
        "  return l\n",
        "\n",
        "JU = Ju(0,2,0,1,1000)\n",
        "\n",
        "plt.hist(JU, bins=90, color=\"cyan\", edgecolor =\"black\", density=True, )\n",
        "plt.show()\n",
        "print(\"La media es:,\", np.mean(JU))\n",
        "print(\"La varianza es:,\", np.var(JU))\n",
        "print(\"La desviación estándar es:,\", np.std(JU))"
      ],
      "metadata": {
        "colab": {
          "base_uri": "https://localhost:8080/",
          "height": 482
        },
        "outputId": "22ad4e1b-bcd8-436a-ba4a-8a12e771511b",
        "id": "CuGmH9aHHZPl"
      },
      "execution_count": 37,
      "outputs": [
        {
          "output_type": "display_data",
          "data": {
            "text/plain": [
              "<Figure size 640x480 with 1 Axes>"
            ],
            "image/png": "[encoded data removed]"
          },
          "metadata": {}
        },
        {
          "output_type": "stream",
          "name": "stdout",
          "text": [
            "La media es:, -0.010212708269910668\n",
            "La varianza es:, 0.3319890103645099\n",
            "La desviación estándar es:, 0.5761848751611847\n"
          ]
        }
      ]
    },
    {
      "cell_type": "markdown",
      "source": [
        "#DISCRETAS"
      ],
      "metadata": {
        "id": "4iNXDgQTfUi4"
      }
    },
    {
      "cell_type": "markdown",
      "source": [
        "###**Uniforme**###\n",
        "$$\n",
        "X \\sim \\text{Uniforme}(a, b)\n",
        "$$\n",
        "\n",
        "con $a, b \\in \\mathbb{Z}$ y $a < b$.\n",
        "\n",
        "---\n",
        "---\n",
        "\n",
        "Densidad $$f(x) = \\frac{1}{n} \\qquad x=1,2,\\cdots,n$$\n",
        "\n",
        "\n",
        "<div align=\"center\">\n",
        "<img src = \"https://upload.wikimedia.org/wikipedia/commons/thumb/1/13/DUniform_distribution.svg/800px-DUniform_distribution.svg.png\" width = \"250\"/>\n",
        "</div>\n",
        "\n",
        "Acumulada $$F(x) =\\frac{x}{n} \\qquad x = 1, 2, ⋯, n$$\n",
        "\n",
        "<div align=\"center\">\n",
        "<img src = \"https://encrypted-tbn0.gstatic.com/images?q=tbn:ANd9GcQK--MTd47_BKOPYoe2XwXsMzmBHf0Hr1gvIg&s\" width = \"250\"/>\n",
        "</div>\n",
        "\n",
        "- Media: ${\\mu = \\frac{n+1}{2}}$\n",
        "- Varianza: ${\\sigma^2 = \\frac{n^2 - 1}{12}}$\n",
        "- Desviación estándar: ${\\sigma = \\sqrt{\\frac{n^2 - 1}{12}}}$\n",
        "\n",
        "Pseudocódigo\n",
        "\n",
        "1. Generar $ U \\sim U(0,1) $\n",
        "2. Definir $x = a + U(b-a)$\n",
        "3. Returnar las $x's$"
      ],
      "metadata": {
        "id": "oBGuUmOig1Mm"
      }
    },
    {
      "cell_type": "code",
      "source": [
        "def unif(a,b,n):\n",
        "   l = []               # Generamos una lista vacía\n",
        "   for _ in range(n):\n",
        "      R = np.random.uniform(0, 1)    # Generamos números aleatorios\n",
        "      x = a + R*(b-a)  # Definimos la forma de nuestra x\n",
        "      l.append(x)       # Guardamos en nuestra lista\n",
        "   return l    # Returnamos  los x's'\n",
        "\n",
        "p = unif(0, 1, 400000)\n",
        "\n",
        "# Graficamos el histograma\n",
        "plt.hist(p, bins=80, color='skyblue', edgecolor='black', density= True)\n",
        "plt.title(\"Distribución Uniforme \")\n",
        "plt.show()\n",
        "print(\"La media es:,\", np.mean(p))\n",
        "print(\"La varianza es:,\", np.var(p))\n",
        "print(\"La desviación estándar es:,\", np.std(p))"
      ],
      "metadata": {
        "colab": {
          "base_uri": "https://localhost:8080/",
          "height": 507
        },
        "id": "4k8XbExofUur",
        "outputId": "5c0bc816-372b-4229-8f0d-1f8126719f99"
      },
      "execution_count": null,
      "outputs": [
        {
          "output_type": "display_data",
          "data": {
            "text/plain": [
              "<Figure size 640x480 with 1 Axes>"
            ],
            "image/png": "[encoded data removed]"
          },
          "metadata": {}
        },
        {
          "output_type": "stream",
          "name": "stdout",
          "text": [
            "La media es:, 0.5004722688193398\n",
            "La varianza es:, 0.08323876964522602\n",
            "La desviación estándar es:, 0.2885112989905699\n"
          ]
        }
      ]
    },
    {
      "cell_type": "markdown",
      "source": [
        "###**Bernoulli**###\n",
        "\n",
        "$$\n",
        "X \\sim \\text{Bernoulli}(p), \\quad 0 \\leq p \\leq 1\n",
        "$$\n",
        "\n",
        "\n",
        "\n",
        "---\n",
        "---\n",
        "\n",
        "Densidad $$P(X = x) =\n",
        "\\begin{cases}\n",
        "1 - p & \\text{si } x = 0 \\\\[0.5em]\n",
        "p & \\text{si } x = 1 \\\\[0.5em]\n",
        "0 & \\text{en otro caso}\n",
        "\\end{cases}$$\n",
        "\n",
        "\n",
        "<div align=\"center\">\n",
        "<img src = \"https://upload.wikimedia.org/wikipedia/commons/7/74/Bernoulli_Distribution.PNG\" width = \"250\"/>\n",
        "</div>\n",
        "\n",
        "Acumulada $$F(x) =\n",
        "\\begin{cases}\n",
        "0 & \\text{si } x < 0 \\\\[0.5em]\n",
        "1 - p & \\text{si } 0 \\leq x < 1 \\\\[0.5em]\n",
        "1 & \\text{si } x \\geq 1\n",
        "\\end{cases}$$\n",
        "\n",
        "<div align=\"center\">\n",
        "<img src = \"https://upload.wikimedia.org/wikipedia/commons/thumb/c/c6/Bernoulli_distribution_CDF.svg/425px-Bernoulli_distribution_CDF.svg.png\" width = \"250\"/>\n",
        "</div>\n",
        "\n",
        "- Media: ${\\mu = p}$\n",
        "- Varianza: ${\\sigma^2 = p(1-p)}$\n",
        "- Desviación estándar: ${\\sigma = \\sqrt{p(1-p)}}$\n",
        "\n",
        "Pseudocódigo\n",
        "\n",
        "1. Generar $ U \\sim U(0,1) $\n",
        "2. Definir: \\begin{cases}\n",
        "x = 1 & \\text{si } U \\leq p \\\\\n",
        "x = 0 & \\text{en otro caso}\n",
        "\\end{cases}\n",
        "3. Returnar las $x's$"
      ],
      "metadata": {
        "id": "pFoixiovnWQA"
      }
    },
    {
      "cell_type": "code",
      "source": [
        "import numpy as np\n",
        "import matplotlib.pyplot as plt\n",
        "import random as rd\n",
        "\n",
        "def Bernoulli(p,n):\n",
        "  L = []#lista para almacenar los x\n",
        "  for i in range(n):#ciclo para generar los números aleatorios\n",
        "      R = rd.uniform(0, 1)\n",
        "      if R <= p:#   #Definir ambos casos\n",
        "            x = 1\n",
        "      else:\n",
        "            x = 0\n",
        "      L.append(x)\n",
        "  return L\n",
        "\n",
        "k = Bernoulli(0.6,100)\n",
        "plt.hist(k, bins=80, color='cyan', edgecolor='black', density=True)\n",
        "plt.show()\n",
        "print(\"La media es:,\", np.mean(k))\n",
        "print(\"La varianza es:,\", np.var(k))\n",
        "print(\"La desviación estándar es:,\", np.std(k))\n"
      ],
      "metadata": {
        "colab": {
          "base_uri": "https://localhost:8080/",
          "height": 485
        },
        "id": "rSRmtEcQtY-X",
        "outputId": "27f18349-b1fd-4f00-c804-3831a4751f7c"
      },
      "execution_count": null,
      "outputs": [
        {
          "output_type": "display_data",
          "data": {
            "text/plain": [
              "<Figure size 640x480 with 1 Axes>"
            ],
            "image/png": "[encoded data removed]"
          },
          "metadata": {}
        },
        {
          "output_type": "stream",
          "name": "stdout",
          "text": [
            "La media es:, 0.59\n",
            "La varianza es:, 0.24189999999999995\n",
            "La desviación estándar es:, 0.49183330509431744\n"
          ]
        }
      ]
    },
    {
      "cell_type": "markdown",
      "source": [
        "###**Geométrica**###\n",
        "\n",
        "\n",
        "Una variable aleatoria $X$ tiene distribución geométrica si representa el número de ensayos hasta obtener el **primer éxito** (inclusive):\n",
        "\n",
        "$$\n",
        "X \\sim \\text{Geom}(p), \\quad 0 < p \\leq 1\n",
        "$$\n",
        "\n",
        "\n",
        "\n",
        "---\n",
        "---\n",
        "\n",
        "Densidad $$\n",
        "P(X = x) = \\begin{cases}\n",
        "p(1-p)^x       & \\text{si } x = 0, 1, \\cdots  \\\\[0.5em]\n",
        "0       & \\text{en otro caso.}\n",
        "\\end{cases}\n",
        "$$\n",
        "\n",
        "\n",
        "Acumulada $$\n",
        "F(x) =  \n",
        "\\begin{cases}\n",
        "0 & \\text{otro caso}, \\\\[0.5em]\n",
        "1 - (1 - p)^{\\lfloor x \\rfloor +1} & \\text{si } x \\geq 0.\n",
        "\\end{cases}\n",
        "$$\n",
        "\n",
        "<div align=\"center\">\n",
        "<img src = \"https://slideplayer.es/slide/1075426/3/images/11/GRAFICOS%3A+DISTRIBUCI%C3%93N+GEOM%C3%89TRICA+P+%3D+0.1.jpg\" width = \"250\"/>\n",
        "</div>\n",
        "\n",
        "- Media: ${\\mu = \\frac{1-p}{p}}$\n",
        "- Varianza: ${\\sigma^2 = \\frac{1-p}{p^2}}$\n",
        "- Desviación estándar: ${\\sigma = \\sqrt{p(1-p)}}$\n",
        "\n",
        "Pseudocódigo\n",
        "\n",
        "1. Generar $ U \\sim U(0,1) $\n",
        "2. Definir $x =\\frac{\\ln(U)}{\\ln(1-p)}$\n",
        "3. Returnar las $x's$\n"
      ],
      "metadata": {
        "id": "74AeHa12wDMx"
      }
    },
    {
      "cell_type": "code",
      "source": [
        "import random as rd\n",
        "import numpy as np\n",
        "import matplotlib.pyplot as plt\n",
        "\n",
        "def geom(p,n):\n",
        "    l = []#lista vacía para almacenar los valores\n",
        "    for _ in range(n):#ciclo para generar los números aleatorios\n",
        "        R = rd.uniform(0, 1)\n",
        "        l.append(np.log(R)/np.log(1-p))#calcula y guarda los X\n",
        "    return l\n",
        "\n",
        "G = geom(0.5, 1000)\n",
        "plt.hist(G, bins=80, color='plum', edgecolor='black', density=True)\n",
        "plt.show()\n",
        "print(\"La media es:,\", np.mean(G))\n",
        "print(\"La varianza es:,\", np.var(G))\n",
        "print(\"La desviación estándar es:,\", np.std(G))"
      ],
      "metadata": {
        "colab": {
          "base_uri": "https://localhost:8080/",
          "height": 485
        },
        "id": "RZ5BvVDmwDih",
        "outputId": "93c0b2ca-3118-41f7-9069-b9ffc03369a5"
      },
      "execution_count": null,
      "outputs": [
        {
          "output_type": "display_data",
          "data": {
            "text/plain": [
              "<Figure size 640x480 with 1 Axes>"
            ],
            "image/png": "[encoded data removed]"
          },
          "metadata": {}
        },
        {
          "output_type": "stream",
          "name": "stdout",
          "text": [
            "La media es:, 1.3659980676108774\n",
            "La varianza es:, 1.7690326782850758\n",
            "La desviación estándar es:, 1.3300498781192664\n"
          ]
        }
      ]
    },
    {
      "cell_type": "markdown",
      "source": [
        "###**Binomial negativa**###\n",
        "\n",
        "\n",
        "\n",
        "Una variable aleatoria $X$ tiene distribución binomial negativa si representa el número de ensayos necesarios hasta observar $r$ éxitos (incluyendo los éxitos), con probabilidad de éxito $p$ en cada ensayo independiente:\n",
        "\n",
        "$$\n",
        "X \\sim \\text{BN}(r, p), \\quad r \\in \\mathbb{N},\\ 0 < p \\leq 1\n",
        "$$\n",
        "\n",
        "\n",
        "---\n",
        "---\n",
        "\n",
        "Densidad $$\n",
        "P(X = x) = \\begin{cases}\n",
        "\\binom{s + x - 1}{x} p^s (1-p)^x       & \\text{si } x = 0,1,2,...  \\\\[0.5em]\n",
        "0       & \\text{en otro caso.}\n",
        "\\end{cases}\n",
        "$$\n",
        "<div align=\"center\">\n",
        "<img src = \"https://www.mql5.com/es/docs/img/demonegativebinomial.png\" width = \"250\"/>\n",
        "</div>\n",
        "\n",
        "Acumulada $$\n",
        "F(x) =  \n",
        "\\begin{cases}\n",
        "\\sum_{i=0}^{⌊x ⌋}\\binom{s + i - 1}{i} p^s (1-p)^i       & \\text{si } x ≥0  \\\\[0.5em]\n",
        "0       & \\text{en otro caso.}\n",
        "\\end{cases}\n",
        "$$\n",
        "\n",
        "<div align=\"center\">\n",
        "<img src = \"https://encrypted-tbn0.gstatic.com/images?q=tbn:ANd9GcQ1MZCF2IlOgxYUYWOxq6eVYfL3XXpEqhk7ZA&s\" width = \"250\"/>\n",
        "</div>\n",
        "\n",
        "- Media: ${\\mu = \\frac{s(1-p)}{p}}$\n",
        "- Varianza: ${\\sigma^2 = \\frac{s(1-p)}{p^2}}$\n",
        "- Desviación estándar: ${\\sigma = \\sqrt{\\frac{s(1-p)}{p^2}}}$\n",
        "\n",
        "Pseudocódigo\n",
        "\n",
        "1. Generar $ U \\sim U(0,1) $\n",
        "2. Definir $x =Y_1,Y_2,..,Y_s$ como IID Geom(p).\n",
        "3. Returnar las $x's$\n"
      ],
      "metadata": {
        "id": "tC2B32ye9ab-"
      }
    },
    {
      "cell_type": "code",
      "source": [
        "import random as rd\n",
        "import numpy as np\n",
        "import matplotlib.pyplot as plt\n",
        "\n",
        "def binomial_negativa(s, p,n):\n",
        "    binomial = [] #lista para almacenar los X\n",
        "    for _ in range(n):#ciclo para generar los números aleatorios\n",
        "        R=np.random.geometric(p, s)\n",
        "        binomial.append(np.sum(R))#clacula y guarda los X\n",
        "    return binomial\n",
        "\n",
        "B_n=binomial_negativa(10, 0.5,10000)\n",
        "plt.hist(B_n, bins=80, color='lightblue', edgecolor='black', density=True)\n",
        "plt.show()\n",
        "print(\"La media es:,\", np.mean(B_n))\n",
        "print(\"La varianza es:,\", np.var(B_n))\n",
        "print(\"La desviación estándar es:,\", np.std(B_n))"
      ],
      "metadata": {
        "colab": {
          "base_uri": "https://localhost:8080/",
          "height": 485
        },
        "id": "TyHl26xL9aQe",
        "outputId": "5329a906-9191-48f5-a4c3-b28343243329"
      },
      "execution_count": null,
      "outputs": [
        {
          "output_type": "display_data",
          "data": {
            "text/plain": [
              "<Figure size 640x480 with 1 Axes>"
            ],
            "image/png": "[encoded data removed]"
          },
          "metadata": {}
        },
        {
          "output_type": "stream",
          "name": "stdout",
          "text": [
            "La media es:, 20.0015\n",
            "La varianza es:, 19.67429775\n",
            "La desviación estándar es:, 4.435571862792892\n"
          ]
        }
      ]
    },
    {
      "cell_type": "markdown",
      "source": [
        "###**Poisson**###\n",
        "\n",
        "\n",
        "Una variable aleatoria $X$ tiene distribución de Poisson si modela el número de eventos que ocurren en un intervalo fijo de tiempo o espacio, con tasa constante $\\lambda$:\n",
        "\n",
        "$$\n",
        "X \\sim \\text{Poisson}(\\lambda), \\quad \\lambda > 0\n",
        "$$\n",
        "\n",
        "---\n",
        "---\n",
        "\n",
        "Densidad $$f(x) = \\begin{cases}\n",
        "\\frac{e^{-\\lambda} \\lambda^x}{x!}       & \\text{si } x = 0,1,2,\\cdot  \\\\[0.5em]\n",
        "0       & \\text{en otro caso.}\n",
        "\\end{cases}\n",
        "$$\n",
        "<div align=\"center\">\n",
        "<img src = \"https://r-coder.com/images/posts/poisson_distribution/es/funcion-masa-probabilidad-poisson-r.PNG\" width = \"250\"/>\n",
        "</div>\n",
        "\n",
        "Acumulada $$\n",
        "F(x) = \\begin{cases}\n",
        "0 & x < 0 \\\\[0.5em]\n",
        "e^{-\\lambda}\\sum_{i=0}^{⌊x ⌋}\\frac{\\lambda ^i}{i!} & \\text{si } x \\geq 0.\n",
        "\\end{cases}\n",
        "$$\n",
        "\n",
        "<div align=\"center\">\n",
        "<img src = \"https://m.forebet.com/images/stories/content/300px-poisson_distribution_cmf.png\" width = \"250\"/>\n",
        "</div>\n",
        "\n",
        "- Media: ${\\mu = \\lambda}$\n",
        "- Varianza: ${\\sigma^2 = \\lambda}$\n",
        "- Desviación estándar: ${\\sigma = \\sqrt{\\lambda}}$\n",
        "\n",
        "Pseudocódigo\n",
        "1. Sea  $a=e^{-\\lambda}, \\quad b=1, \\quad i=0$\n",
        "2. Generar $ U_{i+1} \\sim U(0,1)$\n",
        "3. Reemplazar  $b \\implies bU_{i+1}$\n",
        "4. Hacer $$\\text{Si}\\quad b < a $$\n",
        "$$\\text{Returnar}\\quad X = i$$\n",
        "$$\\text{Otro caso}$$\n",
        "$$\\qquad\\text{Continuar con el paso 5}$$\n",
        "5. Reemplazar $i \\implies i+1$ y regresar al paso 2\n"
      ],
      "metadata": {
        "id": "mB4s43ZRSy-a"
      }
    },
    {
      "cell_type": "code",
      "source": [
        "import numpy as np\n",
        "import matplotlib.pyplot as plt\n",
        "import math\n",
        "\n",
        "def poisson(lamb, n):\n",
        "    l = []##lista para almacenar los datos\n",
        "    for _ in range(n):#ciclo para generar los números aleatorios\n",
        "    #Valores definido en el pseudocódigo\n",
        "        a = math.exp(-lamb)\n",
        "        b = 1.0\n",
        "        i = 0\n",
        "        while True:\n",
        "            u = np.random.uniform(0, 1)\n",
        "            b *= u\n",
        "            if b < a:# Cuando b cae por debajo de e^(-λ), se detiene\n",
        "                break\n",
        "            i += 1 # Cada vez que b >= a, se incrementa el contador i\n",
        "        l.append(i)\n",
        "\n",
        "    return l\n",
        "\n",
        "P = poisson(8, 10000)\n",
        "plt.hist(P, bins=80, color='green', edgecolor='black', density=True)\n",
        "plt.show()\n",
        "print"
      ],
      "metadata": {
        "colab": {
          "base_uri": "https://localhost:8080/",
          "height": 448
        },
        "id": "1YmteOSvS8_y",
        "outputId": "33dd8242-3ace-4cd8-ff12-a6fa5c3eb3c5"
      },
      "execution_count": null,
      "outputs": [
        {
          "output_type": "display_data",
          "data": {
            "text/plain": [
              "<Figure size 640x480 with 1 Axes>"
            ],
            "image/png": "[encoded data removed]"
          },
          "metadata": {}
        },
        {
          "output_type": "execute_result",
          "data": {
            "text/plain": [
              "<function print(*args, sep=' ', end='\\n', file=None, flush=False)>"
            ]
          },
          "metadata": {},
          "execution_count": 15
        }
      ]
    }
  ]
}