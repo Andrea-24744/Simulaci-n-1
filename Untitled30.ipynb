{
  "nbformat": 4,
  "nbformat_minor": 0,
  "metadata": {
    "colab": {
      "provenance": [],
      "authorship_tag": "ABX9TyN/m3oCiZO1BiBnnFFaecFk",
      "include_colab_link": true
    },
    "kernelspec": {
      "name": "python3",
      "display_name": "Python 3"
    },
    "language_info": {
      "name": "python"
    }
  },
  "cells": [
    {
      "cell_type": "markdown",
      "metadata": {
        "id": "view-in-github",
        "colab_type": "text"
      },
      "source": [
        "<a href=\"https://colab.research.google.com/github/Andrea-24744/Simulaci-n-1/blob/main/Untitled30.ipynb\" target=\"_parent\"><img src=\"https://colab.research.google.com/assets/colab-badge.svg\" alt=\"Open In Colab\"/></a>"
      ]
    },
    {
      "cell_type": "markdown",
      "source": [
        "# MONTE CARLO CRUDO- MEDIA MUESTRAL\n",
        "*Santelices Medina Andrea*\n",
        "\n",
        "<p style=\"text-align: justify;\">La idea central del método de integración\n",
        "Monte Carlo es la siguiente: si deseamos calcular la integral $ I = \\int_{a}^{b} g(x)$ para alguna función $g(x)$ difícil de integrar analíticamente, podemos hacer la siguiente sustitución:\n",
        "</p>\n",
        "$$ I = \\int_{a}^{b} g(x) = \\int_{a}^{b} w(x)f(x)dx$$\n",
        "\n",
        "Con:\n",
        "1. $w(x) = g(x)(b-a)$\n",
        "2. $f(x) = \\frac{1}{b-a}$\n",
        "\n",
        "<p style=\"text-align: justify;\">Por lo tanto, la integral transformada puede\n",
        "interpretarse como un múltiplo del valor esperado de $g(x)$ bajo la distribución\n",
        "uniforme:\n",
        "$$ E[g(X)] = \\frac{1}{b-a} g(x), \\quad con X \\approx U_{nif}(a,b) $$\n",
        "</p>\n",
        "<p style=\"text-align: justify;\">Para N suficientemente grande tendremos que, con probabilidad 1:\n",
        "$$ \\frac{1}{N} \\sum_{i =1}^{N}g(X_i)$$\n",
        "\n",
        "</p>"
      ],
      "metadata": {
        "id": "6U1_DmYRwXZu"
      }
    },
    {
      "cell_type": "code",
      "execution_count": 126,
      "metadata": {
        "colab": {
          "base_uri": "https://localhost:8080/"
        },
        "id": "FPQ6kWk2mrhI",
        "outputId": "1acd4dcd-fe76-4d0c-f429-c6fd66f7d17d"
      },
      "outputs": [
        {
          "output_type": "stream",
          "name": "stdout",
          "text": [
            "0.6634423042572644\n"
          ]
        }
      ],
      "source": [
        "from typing import List\n",
        "import numpy as np\n",
        "import random as rd\n",
        "#Función de la tangente\n",
        "def f(x):\n",
        "  return np.sqrt(np.arctan(x))\n",
        "n =100\n",
        "#Sumatoria de todos los valores aleatoios y su division por la cantidad total, ews dcir el valor esperado(nuestra aproximación)\n",
        "def MC_Crudo(n):\n",
        "  resultado_f =0\n",
        "  for i in range(n):\n",
        "    x = rd.random()\n",
        "    resultado_f += f(x)\n",
        "  return resultado_f/n\n",
        "a = MC_Crudo(n)\n",
        "print(a)\n",
        "\n",
        "\n"
      ]
    },
    {
      "cell_type": "code",
      "source": [
        "#Función exacta en los puntos evaluados\n",
        "from sympy import integrate, Symbol, sqrt, atan\n",
        "x = Symbol('x')\n",
        "funcional = integrate( sqrt(atan(x)), (x, 0, 1))\n",
        "resul = funcional.evalf()\n",
        "print(resul)"
      ],
      "metadata": {
        "colab": {
          "base_uri": "https://localhost:8080/"
        },
        "id": "5KNuki0-y76_",
        "outputId": "a2993eab-5c23-4b76-cbdb-346994895d31"
      },
      "execution_count": 117,
      "outputs": [
        {
          "output_type": "stream",
          "name": "stdout",
          "text": [
            "0.629823344207973\n"
          ]
        }
      ]
    },
    {
      "cell_type": "code",
      "source": [
        "#Calculo del error\n",
        "import pandas as pd\n",
        "error = resul - a\n",
        "print(error)"
      ],
      "metadata": {
        "colab": {
          "base_uri": "https://localhost:8080/"
        },
        "id": "DEJxiz_Xy_BV",
        "outputId": "660d4eb0-7aaf-4d9a-d558-aef742ba6a1a"
      },
      "execution_count": 123,
      "outputs": [
        {
          "output_type": "stream",
          "name": "stdout",
          "text": [
            "-0.0413934737716750\n"
          ]
        }
      ]
    },
    {
      "cell_type": "code",
      "source": [
        "import pandas as pd\n",
        "import numpy as np\n",
        "import random as rd\n",
        "from sympy import integrate, Symbol, sqrt, atan\n",
        "import matplotlib.pyplot as plt\n",
        "#JUNTANDO MIS CODIGOS ANTERIORES, Y AGREGANDO  MODIFICACIONES, FINALIZO EL CODIGO COMPLETO EN UNA SOLA CELDA\n",
        "# Función de la tangente\n",
        "def f(x):\n",
        "    return np.sqrt(np.arctan(x))\n",
        "\n",
        "# Número de muestras para la integración de Monte Carlo\n",
        "n = 1000\n",
        "\n",
        "\n",
        "def MC_Crudo(n, exact_value):\n",
        "    resultado_f = 0\n",
        "    errors = []\n",
        "    for i in range(1, n+1):\n",
        "        x = rd.random()  # Genera un valor aleatorio entre 0 y 1\n",
        "        resultado_f += f(x)  # Suma la evaluación de f(x)\n",
        "        approx = resultado_f / i  # Promedio de los valores evaluados\n",
        "        error = exact_value - approx  # Calculamos el error en ese paso\n",
        "        errors.append(error)  # Guardamos el error\n",
        "    return errors\n",
        "\n",
        "# Función exacta en los puntos evaluados\n",
        "x = Symbol('x')\n",
        "funcional = integrate(sqrt(atan(x)), (x, 0, 1))  # Integración simbólica exacta\n",
        "resul = funcional.evalf()  # Evaluación numérica del resultado simbólico\n",
        "\n",
        "# Obtenemos la lista de errores para cada iteración\n",
        "errors = MC_Crudo(n, resul)\n",
        "\n",
        "# Graficamos las fluctuaciones del error\n",
        "plt.plot(range(1, n+1), errors)\n",
        "plt.xlabel('Número de muestras (n)')\n",
        "plt.ylabel('Error')\n",
        "plt.title('Fluctuaciones del Error en Monte Carlo')\n",
        "plt.grid(True)\n",
        "plt.show()\n",
        "\n",
        "print(f\"Error final: {errors[-1]}\")"
      ],
      "metadata": {
        "colab": {
          "base_uri": "https://localhost:8080/",
          "height": 489
        },
        "id": "-aNxXmq64HXu",
        "outputId": "db3a9e77-a34f-4c94-e3e0-85305f11c6f0"
      },
      "execution_count": 132,
      "outputs": [
        {
          "output_type": "display_data",
          "data": {
            "text/plain": [
              "<Figure size 640x480 with 1 Axes>"
            ],
            "image/png": "[encoded data removed]"
          },
          "metadata": {}
        },
        {
          "output_type": "stream",
          "name": "stdout",
          "text": [
            "Error final: -0.00484458255254938\n"
          ]
        }
      ]
    }
  ]
}