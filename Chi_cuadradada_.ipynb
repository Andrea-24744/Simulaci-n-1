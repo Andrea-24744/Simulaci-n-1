{
  "nbformat": 4,
  "nbformat_minor": 0,
  "metadata": {
    "colab": {
      "provenance": [],
      "authorship_tag": "ABX9TyPmS7sr/J0/0yCCu1eWYW3L",
      "include_colab_link": true
    },
    "kernelspec": {
      "name": "python3",
      "display_name": "Python 3"
    },
    "language_info": {
      "name": "python"
    }
  },
  "cells": [
    {
      "cell_type": "markdown",
      "metadata": {
        "id": "view-in-github",
        "colab_type": "text"
      },
      "source": [
        "<a href=\"https://colab.research.google.com/github/Andrea-24744/Simulaci-n-1/blob/main/Chi_cuadradada_.ipynb\" target=\"_parent\"><img src=\"https://colab.research.google.com/assets/colab-badge.svg\" alt=\"Open In Colab\"/></a>"
      ]
    },
    {
      "cell_type": "markdown",
      "source": [
        "# CHI-CUADRADA\n",
        "*Santelices Medina Andrea*\n",
        "\n",
        "<p style=\"text-align: justify;\">Existen algunos métodos disponibles para verificar varios aspectos de la calidad de los números\n",
        "pseudoaleatorios.</p>\n",
        "<p style=\"text-align: justify;\">Las dos propiedades más importantes esperadas en los números aleatorios son uniformidad e independencia. La prueba de uniformidad puede ser realizada usando las pruebas de bondad de ajuste disponibles. Por ejemplo, un número estadístico suficiente de números aleatorios pueden ser usados para verificar la distribución de los números contra la distribución uniforme teórica usando ya sea el método Chi-Cuadrada o el método Kolmogomorov-Smirnov(KS) para números aleatorios. Este tipo de prueba es denominada \"Prueba de frecuencia\"</p>\n",
        "Para entender mejor la función de las pruebas de uniformidad, realicemos un ejemplo aplicando la de **Chi cuadrada:**\n",
        "\n",
        "1. Agrupe los n números aleatorios en K-clases disjuntas de igual amplitud A.\n",
        "2. Halle la frecuencia de cada clase $f_i$.\n",
        "3. Calcule el estadístico $$X^2 = \\sum_{i = 1}^{ k} \\frac{(f_i - nA_i)^2}{nA_i}$$\n",
        "Para n suficientemente grande este estadístico sigue la distribución $x^2$ con $(k-1)$ grados de libertad.\n",
        "4. Determine el valor crítico $x^2_{\\alpha,k-1}$ para un nivel de confianza $(1-\\alpha)$ y $(k-1)$ grados de libertad. Si $x^2 > x^2_{\\alpha,k-1}$ se rechaza $H_o$ (Hipótesis nula)."
      ],
      "metadata": {
        "id": "MLZpeDRoUoVv"
      }
    },
    {
      "cell_type": "code",
      "source": [
        "import numpy as np\n",
        "import pandas as pd\n",
        "from tabulate import tabulate\n",
        "import scipy.stats as stats\n",
        "def calcular_rangos_clase(datos, num_clases):\n",
        "    n = len(datos)  # Tamaño de la muestra\n",
        "    print(f\"Total de datos en la muestra: {n}\")  # Imprimir la longitud de la muestra\n",
        "    #Como se sabe que sigue una distribución uniforme directamnete se considera de 0 a 1\n",
        "    ancho_clase = (1 - 0) / num_clases\n",
        "    clases = []\n",
        "    #Definimos cuales seran los valores extremos de mis clases\n",
        "    limites = [0 + i * ancho_clase for i in range(num_clases + 1)]\n",
        "\n",
        "    #Ajustamos los limites con una diferencia de 0.0001 para no repertirse en al siguiene calse\n",
        "    for i in range(num_clases):\n",
        "        lim_inf = limites[i]\n",
        "        lim_sup = limites[i + 1] - 0.0001 if i < num_clases - 1 else 1\n",
        "        clases.append([lim_inf, lim_sup])\n",
        "\n",
        "    return clases\n",
        "\n",
        "def frecuencia_obs(datos, clases):\n",
        "    return [len(datos)/num_clases]*num_clases # Define mi frecuencia observada\n",
        "def frecuencia_espe(datos, clases):\n",
        "   return [sum(lim_inf <= dato <= lim_sup for dato in datos) for lim_inf, lim_sup in clases] # Define mi frecuencia esperada\n",
        "\n",
        "def resta(frecuencia_o, frecuencia_e):\n",
        "   return [fo - fe for fo, fe in zip(frecuencia_o, frecuencia_e)] #Une dos columnas para restarlas entre ellas\n",
        "def cuadrado(frecuencia_o, frecuencia_e):\n",
        "   return [(fo - fe)**2 for fo, fe in zip(frecuencia_o, frecuencia_e)] #Eleva al cuadrado el resultado obtenido de la anterior resta\n",
        "def final(frecuencia_o, frecuencia_e):\n",
        "   return [((fo - fe)**2)/fe for fo, fe in zip(frecuencia_o, frecuencia_e)]\n",
        "\n",
        "Lista = [\n",
        "    0.048, 0.591, 0.478, 0.166, 0.932,\n",
        "    0.926, 0.007, 0.551, 0.362, 0.533,\n",
        "    0.368, 0.437, 0.178, 0.411, 0.545,\n",
        "    0.787, 0.594, 0.086, 0.951, 0.772,\n",
        "    0.298, 0.199, 0.157, 0.401, 0.631\n",
        "]\n",
        "\n",
        "num_clases = 5  # Definir el número de clases\n",
        "\n",
        "# Calcular los rangos de clase\n",
        "clases = calcular_rangos_clase(Lista, num_clases)\n",
        "\n",
        "# Calcular frecuencias\n",
        "frecuencias_e = frecuencia_espe(Lista, clases)\n",
        "frecuencias_o = frecuencia_obs(Lista, clases)\n",
        "resta = resta(frecuencias_o, frecuencias_e)\n",
        "cuadrado = cuadrado(frecuencias_o, frecuencias_e)\n",
        "final = final(frecuencias_o, frecuencias_e)\n",
        "# Convertir en DataFrame para visualizar con tabulate\n",
        "tabla = pd.DataFrame({\n",
        "    \"Límite Inferior\": [clase[0] for clase in clases],\n",
        "    \"Límite Superior\": [clase[1] for clase in clases],\n",
        "    \"Frecuencia observada\": frecuencias_o,\n",
        "    \"Frecuencia esperada\": frecuencias_e,\n",
        "    \"Fo - Fe\": resta,\n",
        "    \"(Fo - Fe)^2\": cuadrado,\n",
        "    \"(Fo - Fe)^2/Fe\": final\n",
        "})\n",
        "\n",
        "\n",
        "# Imprimir la tabla en formato fancy grid\n",
        "print(tabulate(tabla, headers=\"keys\", tablefmt=\"fancy_grid\", showindex=False))\n",
        "chi_cuadrada = sum(final)\n",
        "print(f\"Suma de la última columna x^2: {chi_cuadrada}\")\n",
        "grados_lib = num_clases - 1\n",
        "# Obtiene el valor crítico de la tabla de Chi\n",
        "alpha = 0.05\n",
        "chi_tabla = stats.chi2.ppf(1 - alpha, grados_lib)\n",
        "\n",
        "print(f\"Valor crítico de chi cuadrado x^2_a: {chi_tabla}\")\n",
        "if chi_cuadrada > chi_tabla:\n",
        "    print(f\"Se rechaza la hipótesis nula: Los datos no siguen una distribución uniforme. Pues {chi_cuadrada} > {chi_tabla}\")\n",
        "else:\n",
        "    print(f\"No se rechaza la hipótesis nula: Los datos siguen una distribución uniforme. Pues {chi_cuadrada} < {chi_tabla}\")"
      ],
      "metadata": {
        "id": "rTvO1GDXWn_X",
        "outputId": "eccabfae-b378-4a02-f7cb-7b23bf3d46f8",
        "colab": {
          "base_uri": "https://localhost:8080/"
        }
      },
      "execution_count": 24,
      "outputs": [
        {
          "output_type": "stream",
          "name": "stdout",
          "text": [
            "Total de datos en la muestra: 25\n",
            "╒═══════════════════╤═══════════════════╤════════════════════════╤═══════════════════════╤═══════════╤═══════════════╤══════════════════╕\n",
            "│   Límite Inferior │   Límite Superior │   Frecuencia observada │   Frecuencia esperada │   Fo - Fe │   (Fo - Fe)^2 │   (Fo - Fe)^2/Fe │\n",
            "╞═══════════════════╪═══════════════════╪════════════════════════╪═══════════════════════╪═══════════╪═══════════════╪══════════════════╡\n",
            "│               0   │            0.1999 │                      5 │                     7 │        -2 │             4 │         0.571429 │\n",
            "├───────────────────┼───────────────────┼────────────────────────┼───────────────────────┼───────────┼───────────────┼──────────────────┤\n",
            "│               0.2 │            0.3999 │                      5 │                     3 │         2 │             4 │         1.33333  │\n",
            "├───────────────────┼───────────────────┼────────────────────────┼───────────────────────┼───────────┼───────────────┼──────────────────┤\n",
            "│               0.4 │            0.5999 │                      5 │                     9 │        -4 │            16 │         1.77778  │\n",
            "├───────────────────┼───────────────────┼────────────────────────┼───────────────────────┼───────────┼───────────────┼──────────────────┤\n",
            "│               0.6 │            0.7999 │                      5 │                     3 │         2 │             4 │         1.33333  │\n",
            "├───────────────────┼───────────────────┼────────────────────────┼───────────────────────┼───────────┼───────────────┼──────────────────┤\n",
            "│               0.8 │            1      │                      5 │                     3 │         2 │             4 │         1.33333  │\n",
            "╘═══════════════════╧═══════════════════╧════════════════════════╧═══════════════════════╧═══════════╧═══════════════╧══════════════════╛\n",
            "Suma de la última columna x^2: 6.349206349206349\n",
            "Valor crítico de chi cuadrado x^2_a: 9.487729036781154\n",
            "No se rechaza la hipótesis nula: Los datos siguen una distribución uniforme. Pues 6.349206349206349 < 9.487729036781154\n"
          ]
        }
      ]
    }
  ]
}