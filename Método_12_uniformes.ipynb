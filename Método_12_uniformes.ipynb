{
  "nbformat": 4,
  "nbformat_minor": 0,
  "metadata": {
    "colab": {
      "provenance": [],
      "authorship_tag": "ABX9TyPQVQ9bMUxgXyzr+LVPF07J",
      "include_colab_link": true
    },
    "kernelspec": {
      "name": "python3",
      "display_name": "Python 3"
    },
    "language_info": {
      "name": "python"
    }
  },
  "cells": [
    {
      "cell_type": "markdown",
      "metadata": {
        "id": "view-in-github",
        "colab_type": "text"
      },
      "source": [
        "<a href=\"https://colab.research.google.com/github/Andrea-24744/Simulaci-n-1/blob/main/M%C3%A9todo_12_uniformes.ipynb\" target=\"_parent\"><img src=\"https://colab.research.google.com/assets/colab-badge.svg\" alt=\"Open In Colab\"/></a>"
      ]
    },
    {
      "cell_type": "markdown",
      "source": [
        "##MÉTODO DE LAS 12 UNIFORMES##\n",
        "*Santelices Medina Andrea*\n",
        "\n",
        "<p style=\"text-align: justify;\">El método de las 12 uniformes es para generar números aleatorios que siguen una distribución normal (gaussiana) a partir de variables aleatorias uniformes.</p>\n",
        "\n",
        "$$f(x) = \\frac{1}{\\sigma\\sqrt{2\\pi}}e^{-\\frac{1}{2}(\\frac{x - \\mu}{\\sigma})^2}$$\n",
        "\n",
        "Sea $z$ :\n",
        "\n",
        "$$ z = \\frac{y - \\Sigma_{i =1}^{n}\\mu_i}{\\sqrt{\\Sigma_{i =1}^{n}\\sigma_i^2}}, \\qquad \\text{como} \\sim U(0,1)  \\implies z = \\frac{ \\Sigma_{i =1}^{n}R_i - \\frac{n}{2}}{\\sqrt{\\frac{n}{12}}}  $$\n",
        "\n",
        "<p style=\"text-align: justify;\">Se basa en el teorema central del límite, que dice que la suma de muchas variables aleatorias independientes y uniformes tiende a tener una distribución normal. En este método se generan solo 12 variables aleatorias entre 0 y 1. </p>\n",
        "\n",
        "$$i.e \\quad z = \\Sigma_{i =1}^{12}R_i - 6 \\quad \\text{con} \\quad x = \\mu + \\sigma \\left( \\Sigma_{i =1}^{12}R_i - 6   \\right)$$\n",
        "\n",
        "Hagamos un ejemplo definiendo a la media y desviación estandar con valores de:$\\quad \\mu = 2 \\quad \\& \\quad \\sigma = 3$"
      ],
      "metadata": {
        "id": "dzIyB65uxJTq"
      }
    },
    {
      "cell_type": "code",
      "execution_count": 62,
      "metadata": {
        "colab": {
          "base_uri": "https://localhost:8080/"
        },
        "id": "zkK0kDOX0fh1",
        "outputId": "05f6e8b0-184b-46b1-b65b-de4bbd67df26"
      },
      "outputs": [
        {
          "output_type": "stream",
          "name": "stdout",
          "text": [
            "5.50791944644751\n"
          ]
        }
      ],
      "source": [
        "import numpy as np\n",
        "import matplotlib.pyplot as plt\n",
        "import random as rd\n",
        "import math\n",
        "\n",
        "#Generamos simplemete números aleatorios y los vamos guardanado en una lista\n",
        "def gen_val_alea_(n):\n",
        "  t = []\n",
        "  for _ in range(n):\n",
        "    r = rd.random()\n",
        "    t.append(r)\n",
        "  return t\n",
        "\n",
        "a = gen_val_alea_(12) #Tomamos solo 12 como se indica en el método\n",
        "suma = sum(a) # Sumamos esos 12 valores\n",
        "print(suma)\n"
      ]
    },
    {
      "cell_type": "code",
      "source": [
        "# Asignamos valores arbitrarios de media y desviación estandar\n",
        "m =2\n",
        "d_v =3\n",
        "# Tomamos una \"n\" lo suficientemente grande\n",
        "n = 10000\n",
        "\n",
        "# Realizamos nuetro expermimento esas n veces con los 12 num.alea ya definidos\n",
        "l = []\n",
        "for i in range(n):\n",
        "  a = gen_val_alea_(12)\n",
        "  suma = sum(a)\n",
        "  x = m + d_v*(suma-6) # Completamos el metódo definiendo de que forma son las x's\n",
        "  l.append(x)        # Generamos la lista de esas x's\n",
        "\n",
        "plt.hist(l, bins=100, color='c', edgecolor='black')\n",
        "plt.title('Distribución de valores de x')\n",
        "plt.xlabel('x')\n",
        "plt.ylabel('Frecuencia')\n",
        "plt.grid(True)\n",
        "plt.show()"
      ],
      "metadata": {
        "colab": {
          "base_uri": "https://localhost:8080/",
          "height": 472
        },
        "id": "Rdl-KPRg8p7m",
        "outputId": "d8a88bc3-5309-4027-f7d8-7e2ce8518627"
      },
      "execution_count": 63,
      "outputs": [
        {
          "output_type": "display_data",
          "data": {
            "text/plain": [
              "<Figure size 640x480 with 1 Axes>"
            ],
            "image/png": "[encoded data removed]"
          },
          "metadata": {}
        }
      ]
    },
    {
      "cell_type": "code",
      "source": [
        "# Determinamos su media, varianza y desv. estandar aproximadas\n",
        "print(\"La media es:\",np.mean(l))\n",
        "print(\"La varianza es:\",np.var(l))\n",
        "print(\"La desviación estandar es:\",np.std(l))\n",
        "print(\"Tamaño de la muestra: \", len(l))"
      ],
      "metadata": {
        "id": "GKBodj9uxNd1",
        "colab": {
          "base_uri": "https://localhost:8080/"
        },
        "outputId": "3b3bfa15-ff5a-41ab-dcca-5afb957c6889"
      },
      "execution_count": 64,
      "outputs": [
        {
          "output_type": "stream",
          "name": "stdout",
          "text": [
            "La media es: 2.0011461123087044\n",
            "La varianza es: 8.928256290480421\n",
            "La desviación estandar es: 2.988018790181953\n",
            "Tamaño de la muestra:  10000\n"
          ]
        }
      ]
    },
    {
      "cell_type": "code",
      "source": [
        "#Ya habiamos definido m = 2 y desviacón estandar = 3, entonces varianza sera igual a 9:\n",
        "print(\"El error en la media es: \",abs(2-np.mean(l)))\n",
        "print(\"El error en la varianza es: \",abs(9-np.var(l)))\n",
        "print(\"El error en la desviación estandar es: \",abs(3-np.std(l)))"
      ],
      "metadata": {
        "id": "MquNF6c6x9G8",
        "colab": {
          "base_uri": "https://localhost:8080/"
        },
        "outputId": "11d7f97c-63d5-4b21-a22c-a83185701a90"
      },
      "execution_count": 65,
      "outputs": [
        {
          "output_type": "stream",
          "name": "stdout",
          "text": [
            "El error en la media es:  0.0011461123087044278\n",
            "El error en la varianza es:  0.07174370951957876\n",
            "El error en la desviación estandar es:  0.011981209818046956\n"
          ]
        }
      ]
    }
  ]
}