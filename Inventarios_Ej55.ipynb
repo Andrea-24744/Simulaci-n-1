{
  "nbformat": 4,
  "nbformat_minor": 0,
  "metadata": {
    "colab": {
      "provenance": [],
      "include_colab_link": true
    },
    "kernelspec": {
      "name": "python3",
      "display_name": "Python 3"
    },
    "language_info": {
      "name": "python"
    }
  },
  "cells": [
    {
      "cell_type": "markdown",
      "metadata": {
        "id": "view-in-github",
        "colab_type": "text"
      },
      "source": [
        "<a href=\"https://colab.research.google.com/github/Andrea-24744/Simulaci-n-1/blob/main/Inventarios_Ej55.ipynb\" target=\"_parent\"><img src=\"https://colab.research.google.com/assets/colab-badge.svg\" alt=\"Open In Colab\"/></a>"
      ]
    },
    {
      "cell_type": "markdown",
      "source": [
        "\n",
        "### **Ejercicio 5.5. Sistema de Inventarios**\n",
        "*Andrea Santelices Medina*\n",
        "\n",
        "La demanda mensual de cierto producto sigue la siguiente distribución de probabilidad  empírica:\n",
        "\n",
        "| Cantidad | Probabilidad |\n",
        "|----------|--------------|\n",
        "|   35     |    0.010     |\n",
        "|   36     |    0.015     |\n",
        "|   37     |    0.020     |\n",
        "|   38     |    0.020     |\n",
        "|   39     |    0.022     |\n",
        "|   40     |    0.023     |\n",
        "|   41     |    0.025     |\n",
        "|   42     |    0.027     |\n",
        "|   43     |    0.028     |\n",
        "|   44     |    0.029     |\n",
        "|   45     |    0.035     |\n",
        "|   46     |    0.045     |\n",
        "|   47     |    0.060     |\n",
        "|   48     |    0.065     |\n",
        "|   49     |    0.070     |\n",
        "|   50     |    0.080     |\n",
        "|   51     |    0.075     |\n",
        "|   52     |    0.070     |\n",
        "|   53     |    0.065     |\n",
        "|   54     |    0.060     |\n",
        "|   55     |    0.050     |\n",
        "|   56     |    0.040     |\n",
        "|   57     |    0.030     |\n",
        "|   58     |    0.016     |\n",
        "|   59     |    0.015     |\n",
        "|   60     |    0.005     |\n",
        "\n",
        "---\n",
        "El tiempo de entrega está distribuido de la siguiente manera:\n",
        "\n",
        "|  Meses      | Probabilidad |\n",
        "|-------------|--------------|\n",
        "| 1           | 0.3          |\n",
        "| 2           | 0.4          |\n",
        "| 3           | 0.3          |\n",
        "\n",
        "---\n",
        "\n",
        "Los factores estacionales para cada uno de los meses del año son como se muestra a continuación:\n",
        "\n",
        "| Mes | Factores estacionales | Mes | Factores estacionales |\n",
        "|-----|------------------------|-----|------------------------|\n",
        "|  1  | 1.20                   |  7  | 0.80                   |\n",
        "|  2  | 1.00                   |  8  | 0.90                   |\n",
        "|  3  | 0.90                   |  9  | 1.00                   |\n",
        "|  4  | 0.80                   | 10  | 1.20                   |\n",
        "|  5  | 0.80                   | 11  | 1.30                   |\n",
        "|  6  | 0.70                   | 12  | 1.40                   |\n",
        "\n",
        "---\n",
        "\n",
        "La información con respecto a los costos relevantes es la siguiente:\n",
        "\n",
        "- **Costo de ordenar** = \\$100 por orden  \n",
        "- **Costo de inventario** = \\$20 por unidad por año  \n",
        "- **Costo de faltante** = \\$50 por unidad  \n",
        "\n",
        "---\n",
        "\n",
        "Si el inventario inicial se asume en 150 unidades, ¿determine la cantidad óptima a ordenar $q$ y el nivel óptimo de reorden $ R $?\n",
        "\n",
        "---\n",
        "\n",
        "*Este ejercicio está resuelto en el libro de forma analítica, empleando el método de la transformada inversa, ahora se resolverá en base a la simulación:*\n"
      ],
      "metadata": {
        "id": "sVCztas4FMzK"
      }
    },
    {
      "cell_type": "code",
      "source": [
        "import numpy as np\n",
        "\n",
        "# Definimos nuetra primera tabla de probabilidades de la demanda mensual, de manera que vamos a ir sumando las probabilidades\n",
        "# (es decir, definiremos la función de distribución acumulada: pdf )\n",
        "demanda_cdf = np.array([0.01, 0.025, 0.045, 0.065, 0.087, 0.11, 0.135, 0.162,\n",
        "                     0.19, 0.219, 0.254, 0.299, 0.359, 0.424, 0.494, 0.574,\n",
        "                     0.649, 0.719, 0.784, 0.844, 0.894, 0.934, 0.964, 0.98, 0.995,1])\n",
        "\n",
        "# Establecemos las cantidades demandadas, segun la tabla 1\n",
        "demanda_vals = np.arange(35, 61)\n",
        "\n",
        "# Hacemos una funcion que asigne el valor correspondiente segun el intervalo en el que caiga u\n",
        "# (posteriormente le meteremos un random para la aleatoriedad)\n",
        "def gen_demanda(u):\n",
        "  i=0\n",
        "  while u > demanda_cdf[i]:\n",
        "    i+=1\n",
        "  return demanda_vals[i]\n",
        "\n",
        "\n",
        "# Nuestra segunda tabla\n",
        "def tiempo_entrega(u):\n",
        "  if u < 0.3:\n",
        "    return 1\n",
        "  elif u < 0.7:\n",
        "    return 2\n",
        "  else:\n",
        "    return 3\n",
        "\n",
        "# Nuestra tercer tabla\n",
        "factores = np.array([1.2, 1, 0.9, 0.8, 0.8, 0.7, 0.8, 0.9, 1, 1.2, 1.3, 1.4])\n",
        "meses = 24  # Simularemos 2 años\n",
        "costos = {'orden': 100, 'almacen': 20/12, 'faltante': 50}  # Nuestra información de cstos"
      ],
      "metadata": {
        "id": "fnAx5GpahnMM"
      },
      "execution_count": 15,
      "outputs": []
    },
    {
      "cell_type": "code",
      "execution_count": 16,
      "metadata": {
        "id": "lH4XNImShkBP",
        "outputId": "17dff7c4-aeb6-4faa-cc0e-b94d7edb8701",
        "colab": {
          "base_uri": "https://localhost:8080/"
        }
      },
      "outputs": [
        {
          "output_type": "stream",
          "name": "stdout",
          "text": [
            "El nivel de reorden óptimo es: 169\n",
            "Y la cantidad a ordenar óptima es: 49\n",
            " con un costo anual esperado de: 2725.35\n"
          ]
        }
      ],
      "source": [
        "import numpy as np\n",
        "import random\n",
        "from random import random\n",
        "\n",
        "def simular(r, q):\n",
        "  inventario = 150 # Inventario inicial (150 unidades)\n",
        "  pedidos_pendientes = []  # lista de fechas de entrega\n",
        "  costos_totales = 0\n",
        "  for mes in range(meses):\n",
        "    pedidos_pendientes = [m for m in pedidos_pendientes if m >= mes] # Si la fecha de llegada es mayor al mes actual, está pendiente\n",
        "    for m in pedidos_pendientes:\n",
        "      if m == mes: # Si la fecha de llegada es el mes actual...\n",
        "          inventario += q # Llega el pedido\n",
        "    pedidos_pendientes = [m for m in pedidos_pendientes if m > mes] # Actualizamos la lista de pedidos pendientes\n",
        "\n",
        "    # Calculamos la demanda del mes\n",
        "    demanda = gen_demanda(random())*factores[mes%12] # La multiplicamos por el factor estacional\n",
        "\n",
        "    if demanda <= inventario: # Si tenemos suficientes artículos en inventario\n",
        "      inventario -= demanda # Surtimos la demanda\n",
        "      faltante = 0\n",
        "    else: # Si no tenemos suficientes artículos\n",
        "      faltante = demanda - inventario # Surtimos lo que podemos\n",
        "      inventario = 0\n",
        "\n",
        "    # ¿Hay que hacer un pedido?\n",
        "    if inventario <= r: # Si tenemos menos articulos que el nivel de reorden, pedimos más\n",
        "      entrega = tiempo_entrega(random())\n",
        "      mes_llegada = mes + entrega\n",
        "      pedidos_pendientes.append(mes_llegada) # Añadimos el pedido a la lista de pedidos pendientes\n",
        "      costos_totales += costos['orden'] # Sumamos el costo del pedido\n",
        "\n",
        "    costos_totales += inventario * costos['almacen']\n",
        "    costos_totales += faltante * costos['faltante'] # Callculamos los demás costos al final del mes\n",
        "\n",
        "  return costos_totales*12/meses # Regresa el costo anual\n",
        "\n",
        "def buscar_rq():\n",
        "    mejor = []\n",
        "    for r in range(35, 200):        # Niveles de reorden\n",
        "      for q in range(35, 200):    # Cantidades a pedir\n",
        "        costos_simulacion = [simular(r, q) for _ in range(20)] # 20 Simulaciones (de 2 años c/u) para cada par (r,q)\n",
        "        promedio = np.mean(costos_simulacion)\n",
        "        mejor.append((promedio, r, q)) # Guardamos los costos promedio, junto a su correspindoente par (r,q)\n",
        "\n",
        "    mejor = min(mejor) # Nos quedamos con el par (r,q) que nos genere el menor costo\n",
        "    return mejor\n",
        "\n",
        "# Ejecutar\n",
        "optimos = buscar_rq()\n",
        "print('El nivel de reorden óptimo es: %d\\nY la cantidad a ordenar óptima es: %d\\n con un costo anual esperado de: %.2f'%(optimos[1],optimos[2],optimos[0]))"
      ]
    },
    {
      "cell_type": "code",
      "source": [],
      "metadata": {
        "id": "fEvVQdYiauxf"
      },
      "execution_count": null,
      "outputs": []
    }
  ]
}