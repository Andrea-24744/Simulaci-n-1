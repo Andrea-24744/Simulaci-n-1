{
  "cells": [
    {
      "cell_type": "markdown",
      "metadata": {
        "id": "view-in-github",
        "colab_type": "text"
      },
      "source": [
        "<a href=\"https://colab.research.google.com/github/Andrea-24744/Simulaci-n-1/blob/main/Ejercico_Flecha_y_cojinete.ipynb\" target=\"_parent\"><img src=\"https://colab.research.google.com/assets/colab-badge.svg\" alt=\"Open In Colab\"/></a>"
      ]
    },
    {
      "cell_type": "markdown",
      "id": "a5cc0a87",
      "metadata": {
        "id": "a5cc0a87"
      },
      "source": [
        "#Metodología de la Simulación\n",
        "*Santelices Medina Andrea*"
      ]
    },
    {
      "cell_type": "markdown",
      "id": "51ce3fa1",
      "metadata": {
        "id": "51ce3fa1"
      },
      "source": [
        "#Ejercicio\n",
        "\n",
        "Una flecha será ensamblada en un cojinete como se muestra a continuación:\n",
        "<div align=\"center\">\n",
        "<img src = \"https://encrypted-tbn1.gstatic.com/images?q=tbn:ANd9GcQwylpmMKSM1Syy0uyNqG_5CuC5ox8WUs95pj0Zj1Nwm5D2STbK\" width = \"250\"/>\n",
        "</div>\n",
        "\n",
        "Si  $X_1$ sigue una distribución normal con media 1.5 y varianza 0.0016, y $X_2$\n",
        "  sigue esta misma distribución con media 1.48 y varianza 0.0009, determine:\n",
        "\n",
        "* a) La probabilidad de que haya interferencia.\n",
        "\n",
        "* b) El número de veces que es necesario simular el experimento, si se quiere que la probabilidad de interferencia estimada difiera de su valor verdadero en menos de 0.01, con un nivel de seguridad del 95%."
      ]
    },
    {
      "cell_type": "markdown",
      "id": "fbbc8571",
      "metadata": {
        "id": "fbbc8571"
      },
      "source": [
        "**PASO 1**. Defina las variables que intervienen en el modelo.\n",
        "\n",
        "$$x_1 \\sim N(1.5,0.04)$$\n",
        "\n",
        "$$x_2 \\sim N(1.48,0.03)$$"
      ]
    },
    {
      "cell_type": "markdown",
      "id": "4d3899f3",
      "metadata": {
        "id": "4d3899f3"
      },
      "source": [
        "**PASO 2**. Formule la distribución de probabilidad de cada variable.\n",
        "\n",
        "$$x_1 \\sim f(x)=\\frac{1}{\\sqrt{2\\pi}(0.04)}e^{\\frac{-(x-1.5)^2}{2(0.0016)}}$$\n",
        "\n",
        "$$x_2 \\sim f(x)=\\frac{1}{\\sqrt{2\\pi}(0.03)}e^{\\frac{-(x-1.48)^2}{2(0.0009)}}$$"
      ]
    },
    {
      "cell_type": "markdown",
      "id": "fd02116a",
      "metadata": {
        "id": "fd02116a"
      },
      "source": [
        "**PASO 3**. Modele las variables aleatorias\n",
        "\n",
        "*Modelaremos las variables aleatorias por el método Box-Muller:*\n",
        "\n",
        "---\n",
        "* <p style=\"text-align: justify;\">El metódo Box-Muller es preferible al de las 12 uniformes y al de la aproximación central, puesto que genera numeros aleatorios de manera más eficiente y precisa.</p>\n",
        "\n",
        "* <p style=\"text-align: justify;\">En las 12 unifromes, el principal problema es que necesita 12 v.a, por lo que es menos eficiente cuando se trata de muestras altamente precisas.</p>\n",
        "\n",
        "* <p style=\"text-align: justify;\">Apesar de que la aproximación central es una opción sumamente rápida y sencilla de aplicar, es límitada. </p>\n",
        "\n",
        "**Pseudocódigo**\n",
        "\n",
        "1. Generar $U_1, U_2  \\sim U(0,1)$\n",
        "\n",
        "2. Hacer: $\\quad R=\\sqrt{-2lnU_1}\\qquad , \\qquad \\theta=2\\pi  U_2$\n",
        "\n",
        "3. Hacer: $\\quad X_1=Rcos(\\theta) \\qquad ,\\quad X_2=Rsen(\\theta)$\n",
        "\n",
        "4. Salida: $X_1, X_2$\n",
        "\n",
        "\n",
        "\n"
      ]
    },
    {
      "cell_type": "code",
      "execution_count": 61,
      "id": "FkSuNvYevjX2",
      "metadata": {
        "id": "FkSuNvYevjX2"
      },
      "outputs": [],
      "source": [
        "import numpy as np\n",
        "import random\n",
        "#Generar numeros aleatorios que tienen una distribución normal\n",
        "x_1 = np.random.normal(1.5,0.04)\n",
        "x_2 = np.random.normal(1.48,0.03)"
      ]
    },
    {
      "cell_type": "markdown",
      "id": "4852dcac",
      "metadata": {
        "id": "4852dcac"
      },
      "source": [
        "**PASO 4**. Defina el modelo del sistema y los objetivos de la simulación\n",
        "\n",
        "<p style=\"text-align: justify;\">Queremos determinar la probabilidad de interferencia, o mejor dicho, la probabilidad de los posibles errores en el ensamblaje de la pieza, que será el caso en el que la flecha \"*$x_2$*\", sea mayor o igual al epacio establecido para ella \"*$x_1$*\"</p>\n",
        "\n",
        "$i.e \\quad$ ***condición de interferencia:***\n",
        "\n",
        "$$x_2 \\geq x_1$$\n",
        "\n",
        "$\\therefore \\quad $***Buscamos*** $\\quad P(x_2 \\geq x_1)$"
      ]
    },
    {
      "cell_type": "markdown",
      "id": "edb6b074",
      "metadata": {
        "id": "edb6b074"
      },
      "source": [
        "**PASO 5**. Genere números aleatorios."
      ]
    },
    {
      "cell_type": "code",
      "execution_count": 8,
      "id": "7d56c432",
      "metadata": {
        "id": "7d56c432"
      },
      "outputs": [],
      "source": [
        "import numpy as np\n",
        "import random\n",
        "# Simplemente generamos 2 numeros aleatorios, tal que si cumplen una condicion\n",
        "# los va sumando para al final dividirlo entre todos los generados\n",
        "def exp(n):\n",
        "    s=0\n",
        "    for _  in range(n):\n",
        "        x_1=np.random.normal(1.5,0.04,1)\n",
        "        x_2=np.random.normal(1.48,0.03,1)\n",
        "        if x_2 >= x_1:\n",
        "            s+=1\n",
        "    prob=s/n\n",
        "    return prob\n"
      ]
    },
    {
      "cell_type": "markdown",
      "id": "f38f3396",
      "metadata": {
        "id": "f38f3396"
      },
      "source": [
        "**PASO 6**. Repetir M veces el experimento"
      ]
    },
    {
      "cell_type": "code",
      "execution_count": 44,
      "id": "Q0LeXJemxFd6",
      "metadata": {
        "id": "Q0LeXJemxFd6"
      },
      "outputs": [],
      "source": [
        "def muestra(m):       # Repeticiones, es decir, las veces que vamos a repetir nuestro experimento agrando todas en una lista\n",
        "    l=[]                # para englobar una replica de la modelacion y posteriormente ver su convergencia\n",
        "    for i in range(m):\n",
        "        d =exp(i+1)\n",
        "        l.append(d)\n",
        "    return l\n",
        "\n",
        "n = 10\n"
      ]
    },
    {
      "cell_type": "markdown",
      "id": "d270399e",
      "metadata": {
        "id": "d270399e"
      },
      "source": [
        "**PASO 7**. Obtenga la gráfica de estabilización que indica que el tamaño de muestra utilizado es suficiente para\n",
        "garantizar la convergencia del resultado."
      ]
    },
    {
      "cell_type": "code",
      "execution_count": 27,
      "id": "2fd22e33",
      "metadata": {
        "colab": {
          "base_uri": "https://localhost:8080/",
          "height": 452
        },
        "id": "2fd22e33",
        "outputId": "a06dc1fd-9d4e-459a-a573-0c3da1294970"
      },
      "outputs": [
        {
          "output_type": "display_data",
          "data": {
            "text/plain": [
              "<Figure size 640x480 with 1 Axes>"
            ],
            "image/png": "[encoded data removed]"
          },
          "metadata": {}
        }
      ],
      "source": [
        "import matplotlib.pyplot as plt\n",
        "import matplotlib.pyplot as plt\n",
        "n = 10\n",
        "m = 1000\n",
        "A = muestra(m)\n",
        "\n",
        "# Generamos nuestra grafica para visualizar hasta que punto se estabilizan las fluctuaciones\n",
        "plt.plot(A, color=\"plum\")\n",
        "plt.title('Probabilidad')\n",
        "plt.axhline(y=np.mean(A), color='brown', label=\"media:\")\n",
        "plt.axhline(y=np.mean(A)+np.std(A),color='hotpink', linestyle='--', label=\"Varianza\")\n",
        "plt.axhline(y=np.mean(A)-np.std(A), color='hotpink', linestyle='--')\n",
        "plt.show()"
      ]
    },
    {
      "cell_type": "markdown",
      "id": "f596fcd1",
      "metadata": {
        "id": "f596fcd1"
      },
      "source": [
        "**PASO 8**. Replique el modelo."
      ]
    },
    {
      "cell_type": "code",
      "execution_count": 29,
      "id": "b237f0d0",
      "metadata": {
        "id": "b237f0d0"
      },
      "outputs": [],
      "source": [
        "def simulacion_m(r):    # de las repeticiones hechas en la muestra para nuestro experimento, guardaremos ahora sus medias\n",
        "    L = []                  # para estimar el valor esperado\n",
        "    for i in range(r):\n",
        "        L.append(np.mean(exp(1000)))\n",
        "    return L"
      ]
    },
    {
      "cell_type": "code",
      "execution_count": 39,
      "id": "d060db89",
      "metadata": {
        "id": "d060db89"
      },
      "outputs": [],
      "source": [
        "simulacion = simulacion_m(550) #Establecemos una n lo suficientemente grande para ver su comportamiento en el histograma"
      ]
    },
    {
      "cell_type": "code",
      "execution_count": 40,
      "id": "cc0b958d",
      "metadata": {
        "id": "cc0b958d",
        "colab": {
          "base_uri": "https://localhost:8080/",
          "height": 472
        },
        "outputId": "8855ac49-215a-4d7f-9e38-df29ff8ece27"
      },
      "outputs": [
        {
          "output_type": "display_data",
          "data": {
            "text/plain": [
              "<Figure size 640x480 with 1 Axes>"
            ],
            "image/png": "[encoded data removed]"
          },
          "metadata": {}
        }
      ],
      "source": [
        "# Generamos histograma\n",
        "plt.hist(simulacion, bins=80, color=\"lightblue\", edgecolor=\"black\")\n",
        "plt.xlabel('iteraciones')\n",
        "plt.ylabel('p')\n",
        "plt.title('Probabilidad')\n",
        "plt.show()"
      ]
    },
    {
      "cell_type": "markdown",
      "id": "6e9bd469",
      "metadata": {
        "id": "6e9bd469"
      },
      "source": [
        "**PASO 9**. Calcule la probabilidad de interferencia y su desviación\n",
        "estándar.\n",
        "\n",
        "\n"
      ]
    },
    {
      "cell_type": "code",
      "execution_count": 45,
      "id": "dbeb0461",
      "metadata": {
        "id": "dbeb0461",
        "colab": {
          "base_uri": "https://localhost:8080/"
        },
        "outputId": "4f906e0f-ff82-4698-e85e-2208c1a7d827"
      },
      "outputs": [
        {
          "output_type": "stream",
          "name": "stdout",
          "text": [
            "La media de la muestra es: 0.34416727272727277\n",
            "La varianza de la muestra es: 0.0002288447471074378\n",
            "La desviación estandar de la muestra es: 0.015127615380734592\n"
          ]
        }
      ],
      "source": [
        "print('La media de la muestra es:',np.mean(simulacion))\n",
        "print('La varianza de la muestra es:', np.var(simulacion))\n",
        "print('La desviación estandar de la muestra es:', np.std(simulacion))"
      ]
    },
    {
      "cell_type": "markdown",
      "source": [
        "##**a)**\n",
        "$i.e \\quad $  la probabilidad es el valor al que tienden nuestros datos en la simulación, en otras palabras, la media de nuestra simulación\n",
        "\n",
        "$\\therefore  \\quad P(x_2 \\geq x_1) \\approx 0.344167$"
      ],
      "metadata": {
        "id": "N0jpdX_vs-g1"
      },
      "id": "N0jpdX_vs-g1"
    },
    {
      "cell_type": "markdown",
      "source": [
        "---\n",
        "##Solución analítica\n",
        "---\n",
        "---\n",
        "\n",
        "Antes de finalizar y realizar el último paso (el paso 10), determinemos la solución analítica a nuestro problema:\n",
        "\n",
        "Del problema tenemos:\n",
        "\n",
        "$$x_2 \\geq x_1 \\implies x_2 - x_1 \\geq 0$$\n",
        "\n",
        "Entonces, definimos una nueva variable de la forma:\n",
        "$$t=x_2 - x_1 \\geq 0$$\n",
        "\n",
        "$$ \\implies t \\sim N(\\mu_t,\\sigma_t)$$\n",
        "\n",
        "Por lo tanto\n",
        "$$\\mu_t=\\mu_2-\\mu_1=1.48-1.5=-0.02$$\n",
        "\n",
        "\n",
        "$$\\sigma_t=\\sqrt{\\sigma_1^2+\\sigma_2^2}=\\sqrt{0.0016+0.0009}=0.05$$\n",
        "\n",
        "$$i.e \\quad  t\\sim N(-0.02,0.05)$$\n",
        "\n",
        "Ahora nuestra $f(t)$*(función de densidad)* nos quedaría:\n",
        "\n",
        "$$f(t) = \\frac{1}{\\sqrt{2\\pi}(0.05)}e^{\\frac{-(x+0.2)^2}{2(0.0025)}}$$\n",
        "\n",
        "Por lo que determinar la probabilidad, implica determinar la función de distribución acumulativa, es decir: $\\quad P(t \\geq 0) = P(x_2 - x_1 \\geq 0) = F(t)$\n",
        "\n",
        "$$F(t) = \\int_0^{\\chi_2 - \\chi_1}\\frac{1}{\\sqrt{2\\pi}(0.05)}e^{\\frac{-(x+0.2)^2}{2(0.0025)}}$$\n",
        "Finalmente obtenemos:\n"
      ],
      "metadata": {
        "id": "pHYOdjYWuAe7"
      },
      "id": "pHYOdjYWuAe7"
    },
    {
      "cell_type": "code",
      "source": [
        "import scipy.stats\n",
        "# Con esta función realizamos de manera directa nuestra integral\n",
        "prob = 1 - scipy.stats.norm.cdf(0, -0.02,0.05)\n",
        "print(prob)\n"
      ],
      "metadata": {
        "colab": {
          "base_uri": "https://localhost:8080/"
        },
        "id": "NkG5R7-CzERJ",
        "outputId": "749b56f1-01ef-40c8-a8a0-ff628da36374"
      },
      "id": "NkG5R7-CzERJ",
      "execution_count": 46,
      "outputs": [
        {
          "output_type": "stream",
          "name": "stdout",
          "text": [
            "0.3445782583896758\n"
          ]
        }
      ]
    },
    {
      "cell_type": "markdown",
      "source": [
        "**$i.e \\quad P(t \\geq 0) \\approx 0.34457$**\n",
        "\n",
        "---"
      ],
      "metadata": {
        "id": "o6pELVvOzHsv"
      },
      "id": "o6pELVvOzHsv"
    },
    {
      "cell_type": "markdown",
      "source": [
        "## **b)**\n",
        "\n",
        "<p style=\"text-align: justify;\">El número de veces que es necesario simular el experimento, si se  que la probabilidad de interferencia estimada difiera de su valor verdadero en menos de 0.01, con un nivel de seguridad del 95%.<p>\n",
        "\n",
        "<p style=\"text-align: justify;\">La gráfica correspondiente al paso 7 permite identificar el tamaño de muestra requerido para garantizar la convergencia estadística del estimador. En función de dicha representación, se observa que ***$400$*** replicas del experimento son suficientes para alcanzar una estimación estable, con un error absoluto mínimo respecto al valor verdadero.<p>\n",
        "\n",
        "---"
      ],
      "metadata": {
        "id": "l0lA2nsGzqQr"
      },
      "id": "l0lA2nsGzqQr"
    },
    {
      "cell_type": "markdown",
      "source": [
        "![image.png](data:image/png;base64,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)"
      ],
      "metadata": {
        "id": "XabT2rbaz8rp"
      },
      "id": "XabT2rbaz8rp"
    },
    {
      "cell_type": "markdown",
      "id": "db8776d2",
      "metadata": {
        "id": "db8776d2"
      },
      "source": [
        "**PASO 10**. Halle el intervalo de confianza de la probabilidad de que haya interferencia con un nivel de confianza del $95 \\%$."
      ]
    },
    {
      "cell_type": "code",
      "execution_count": 59,
      "id": "e5132329",
      "metadata": {
        "id": "e5132329",
        "colab": {
          "base_uri": "https://localhost:8080/"
        },
        "outputId": "a3cf3537-c9cb-4455-a192-ebae2c33aadc"
      },
      "outputs": [
        {
          "output_type": "stream",
          "name": "stdout",
          "text": [
            "El intervalo de confianza del 95% es: (0.3348, 0.3544)\n"
          ]
        }
      ],
      "source": [
        "#Ocuparemos todo lo obtenido de la solución analítica m = 0.344, d = 0.05\n",
        "#Tomando n como las repeticiones necesarias para la convergencia, lo que se dijo anteriormente, es decir n =400\n",
        "h = 400\n",
        "z = 1.96  # para 95% de confianza\n",
        "desv = 0.05\n",
        "m = prob\n",
        "\n",
        "# Intervalo de confianza (para variables que siguen una distribución normal) se define:\n",
        "lim_inf = m - (z *2*desv)/np.sqrt(h)\n",
        "lim_sup = m + (z *2*desv)/np.sqrt(h)\n",
        "\n",
        "print(f\"El intervalo de confianza del 95% es: ({lim_inf:.4f}, {lim_sup:.4f})\")"
      ]
    },
    {
      "cell_type": "code",
      "source": [
        "# Histograma definido en el rango del intervalo de confianza\n",
        "plt.hist(simulacion, bins=80, color=\"paleturquoise\", edgecolor=\"black\")\n",
        "plt.axvline(lim_inf, color='slateblue', linestyle='--', label='Límite inferior')\n",
        "plt.axvline(lim_sup, color='slateblue', linestyle='--', label='Límite superior')\n",
        "plt.axvline(m, color='navy', linestyle='-', label='Media')\n",
        "plt.title('Distribución de la probabilidad estimada')\n",
        "plt.legend()\n",
        "plt.show()"
      ],
      "metadata": {
        "colab": {
          "base_uri": "https://localhost:8080/",
          "height": 453
        },
        "id": "pgGztYEL0wGM",
        "outputId": "028a4857-98b9-4f0c-ff88-d62be3878a53"
      },
      "id": "pgGztYEL0wGM",
      "execution_count": 58,
      "outputs": [
        {
          "output_type": "display_data",
          "data": {
            "text/plain": [
              "<Figure size 640x480 with 1 Axes>"
            ],
            "image/png": "[encoded data removed]"
          },
          "metadata": {}
        }
      ]
    },
    {
      "cell_type": "code",
      "source": [],
      "metadata": {
        "id": "RPJxHG4n7FIi"
      },
      "id": "RPJxHG4n7FIi",
      "execution_count": null,
      "outputs": []
    }
  ],
  "metadata": {
    "colab": {
      "provenance": [],
      "include_colab_link": true
    },
    "kernelspec": {
      "display_name": "Python 3 (ipykernel)",
      "language": "python",
      "name": "python3"
    },
    "language_info": {
      "codemirror_mode": {
        "name": "ipython",
        "version": 3
      },
      "file_extension": ".py",
      "mimetype": "text/x-python",
      "name": "python",
      "nbconvert_exporter": "python",
      "pygments_lexer": "ipython3",
      "version": "3.7.3"
    }
  },
  "nbformat": 4,
  "nbformat_minor": 5
}